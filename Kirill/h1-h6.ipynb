{
 "cells": [
  {
   "cell_type": "code",
   "execution_count": 2,
   "metadata": {},
   "outputs": [],
   "source": [
    "from bs4 import BeautifulSoup\n",
    "import re\n",
    "import codecs\n",
    "import numpy as np\n",
    "import pandas as pd\n",
    "from tqdm import tqdm_notebook"
   ]
  },
  {
   "cell_type": "code",
   "execution_count": 35,
   "metadata": {},
   "outputs": [
    {
     "data": {
      "application/vnd.jupyter.widget-view+json": {
       "model_id": "c61b9ea4af5d4c989d387e21fb49fc54",
       "version_major": 2,
       "version_minor": 0
      },
      "text/plain": [
       "HBox(children=(IntProgress(value=0, max=28026), HTML(value='')))"
      ]
     },
     "metadata": {},
     "output_type": "display_data"
    },
    {
     "name": "stdout",
     "output_type": "stream",
     "text": [
      "\n"
     ]
    }
   ],
   "source": [
    "output_txt = 'h1_h6_new.txt'\n",
    "total_sites = 28026\n",
    "path = 'content/'\n",
    "\n",
    "with tqdm_notebook(total=total_sites) as pbar:\n",
    "    with open(output_txt, 'w') as out_f:\n",
    "        out_f.write('{}\\t{}\\t{}\\t{}\\t{}\\t{}\\t{}\\n'.format('doc_id', 'h1', 'h2', 'h3', 'h4', 'h5', 'h6'))\n",
    "        for doc_id in range(1,total_sites+1):\n",
    "            with codecs.open(path + str(doc_id) + '.dat', 'r', 'utf-8') as in_f:\n",
    "                soup = BeautifulSoup(in_f, 'lxml')\n",
    "                out_f.write('{}\\t'.format(doc_id))\n",
    "                for i in range(1,7):\n",
    "                    h_all = soup.find_all('h{}'.format(i))\n",
    "                    result = []\n",
    "                    if len(h_all) != 0:\n",
    "                        for h in h_all:\n",
    "                            result.append(h.text)\n",
    "        #             result = re.split('\\n|\\t|\\.|\"|«|»', ' '.join(result))\n",
    "                    result = ' '.join(result)\n",
    "                    temp = re.findall(r'[А-я,0-9]*', result)\n",
    "#                     temp = re.findall(r'[-А-я,0-9]*', result)\n",
    "                    if temp != None:\n",
    "                        result = ' '.join(temp) \n",
    "                    result = ' '.join(result.split()).lower()\n",
    "                           \n",
    "                    if i == 6:\n",
    "                        out_f.write('{}\\n'.format(result))\n",
    "                    else:\n",
    "                        out_f.write('{}\\t'.format(result)) \n",
    "                pbar.update()"
   ]
  },
  {
   "cell_type": "code",
   "execution_count": 37,
   "metadata": {},
   "outputs": [
    {
     "data": {
      "text/html": [
       "<div>\n",
       "<style scoped>\n",
       "    .dataframe tbody tr th:only-of-type {\n",
       "        vertical-align: middle;\n",
       "    }\n",
       "\n",
       "    .dataframe tbody tr th {\n",
       "        vertical-align: top;\n",
       "    }\n",
       "\n",
       "    .dataframe thead th {\n",
       "        text-align: right;\n",
       "    }\n",
       "</style>\n",
       "<table border=\"1\" class=\"dataframe\">\n",
       "  <thead>\n",
       "    <tr style=\"text-align: right;\">\n",
       "      <th></th>\n",
       "      <th>doc_id</th>\n",
       "      <th>h1</th>\n",
       "      <th>h2</th>\n",
       "      <th>h3</th>\n",
       "      <th>h4</th>\n",
       "      <th>h5</th>\n",
       "      <th>h6</th>\n",
       "    </tr>\n",
       "  </thead>\n",
       "  <tbody>\n",
       "    <tr>\n",
       "      <th>0</th>\n",
       "      <td>1</td>\n",
       "      <td>м б аншина центр репродукции и генетики фертим...</td>\n",
       "      <td>температура тела особенности поведения особенн...</td>\n",
       "      <td>NaN</td>\n",
       "      <td>NaN</td>\n",
       "      <td>NaN</td>\n",
       "      <td>NaN</td>\n",
       "    </tr>\n",
       "    <tr>\n",
       "      <th>1</th>\n",
       "      <td>2</td>\n",
       "      <td>переводы киви кошелька</td>\n",
       "      <td>как перевести деньги с киви кошелька на киви к...</td>\n",
       "      <td>навигация по сайту</td>\n",
       "      <td>NaN</td>\n",
       "      <td>NaN</td>\n",
       "      <td>NaN</td>\n",
       "    </tr>\n",
       "    <tr>\n",
       "      <th>2</th>\n",
       "      <td>3</td>\n",
       "      <td>проект патрули времени реабилитация духовных с...</td>\n",
       "      <td>деньги и экономика обмен и финансы деньги без ...</td>\n",
       "      <td>деньги и экономика обмен и финансы деньги без ...</td>\n",
       "      <td>NaN</td>\n",
       "      <td>NaN</td>\n",
       "      <td>NaN</td>\n",
       "    </tr>\n",
       "    <tr>\n",
       "      <th>3</th>\n",
       "      <td>4</td>\n",
       "      <td>клуб преподавание в начальных классах блог</td>\n",
       "      <td>NaN</td>\n",
       "      <td>NaN</td>\n",
       "      <td>NaN</td>\n",
       "      <td>NaN</td>\n",
       "      <td>NaN</td>\n",
       "    </tr>\n",
       "    <tr>\n",
       "      <th>4</th>\n",
       "      <td>5</td>\n",
       "      <td>как быстро понизить холестерин высокий холестерин</td>\n",
       "      <td>норма холестерина в крови как правильно питать...</td>\n",
       "      <td>липа для снижения холестерина фасоль снизит хо...</td>\n",
       "      <td>комментарии</td>\n",
       "      <td>NaN</td>\n",
       "      <td>NaN</td>\n",
       "    </tr>\n",
       "  </tbody>\n",
       "</table>\n",
       "</div>"
      ],
      "text/plain": [
       "   doc_id                                                 h1  \\\n",
       "0       1  м б аншина центр репродукции и генетики фертим...   \n",
       "1       2                             переводы киви кошелька   \n",
       "2       3  проект патрули времени реабилитация духовных с...   \n",
       "3       4         клуб преподавание в начальных классах блог   \n",
       "4       5  как быстро понизить холестерин высокий холестерин   \n",
       "\n",
       "                                                  h2  \\\n",
       "0  температура тела особенности поведения особенн...   \n",
       "1  как перевести деньги с киви кошелька на киви к...   \n",
       "2  деньги и экономика обмен и финансы деньги без ...   \n",
       "3                                                NaN   \n",
       "4  норма холестерина в крови как правильно питать...   \n",
       "\n",
       "                                                  h3           h4   h5   h6  \n",
       "0                                                NaN          NaN  NaN  NaN  \n",
       "1                                 навигация по сайту          NaN  NaN  NaN  \n",
       "2  деньги и экономика обмен и финансы деньги без ...          NaN  NaN  NaN  \n",
       "3                                                NaN          NaN  NaN  NaN  \n",
       "4  липа для снижения холестерина фасоль снизит хо...  комментарии  NaN  NaN  "
      ]
     },
     "execution_count": 37,
     "metadata": {},
     "output_type": "execute_result"
    }
   ],
   "source": [
    "df = pd.read_csv(output_txt, sep='\\t', encoding='utf-8', lineterminator='\\n')\n",
    "df.head()"
   ]
  },
  {
   "cell_type": "code",
   "execution_count": 43,
   "metadata": {},
   "outputs": [],
   "source": [
    "df[['doc_id', 'h1']].to_csv('h1.txt',  index=False, sep='\\t')\n",
    "df[['doc_id', 'h2']].to_csv('h2.txt',  index=False, sep='\\t')\n",
    "df[['doc_id', 'h3']].to_csv('h3.txt',  index=False, sep='\\t')\n",
    "df[['doc_id', 'h4']].to_csv('h4.txt',  index=False, sep='\\t')\n",
    "df[['doc_id', 'h5']].to_csv('h5.txt',  index=False, sep='\\t')\n",
    "df[['doc_id', 'h6']].to_csv('h6.txt',  index=False, sep='\\t')"
   ]
  },
  {
   "cell_type": "code",
   "execution_count": null,
   "metadata": {},
   "outputs": [],
   "source": []
  }
 ],
 "metadata": {
  "kernelspec": {
   "display_name": "Python 3",
   "language": "python",
   "name": "python3"
  },
  "language_info": {
   "codemirror_mode": {
    "name": "ipython",
    "version": 3
   },
   "file_extension": ".py",
   "mimetype": "text/x-python",
   "name": "python",
   "nbconvert_exporter": "python",
   "pygments_lexer": "ipython3",
   "version": "3.7.3"
  }
 },
 "nbformat": 4,
 "nbformat_minor": 2
}
