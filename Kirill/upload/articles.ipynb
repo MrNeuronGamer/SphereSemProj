{
 "cells": [
  {
   "cell_type": "code",
   "execution_count": 37,
   "metadata": {},
   "outputs": [],
   "source": [
    "from bs4 import BeautifulSoup\n",
    "import re\n",
    "import codecs\n",
    "import numpy as np\n",
    "import pandas as pd\n",
    "from tqdm import tqdm_notebook\n",
    "import os\n",
    "\n",
    "import pymorphy2 "
   ]
  },
  {
   "cell_type": "code",
   "execution_count": 39,
   "metadata": {},
   "outputs": [],
   "source": [
    "def pos(word, morth=pymorphy2.MorphAnalyzer()):\n",
    "    \"Return a likely part of speech for the *word*.\"\"\"\n",
    "    return morth.parse(word)[0].tag.POS\n",
    "functors_pos = {'INTJ', 'PRCL', 'CONJ', 'PREP'}  # function words"
   ]
  },
  {
   "cell_type": "code",
   "execution_count": 40,
   "metadata": {},
   "outputs": [],
   "source": [
    "from nltk.corpus import stopwords\n",
    "russian_stopwords = stopwords.words(\"russian\")"
   ]
  },
  {
   "cell_type": "code",
   "execution_count": null,
   "metadata": {
    "scrolled": true
   },
   "outputs": [
    {
     "data": {
      "application/vnd.jupyter.widget-view+json": {
       "model_id": "dc02a850c094440bbeac7c91390ec19c",
       "version_major": 2,
       "version_minor": 0
      },
      "text/plain": [
       "HBox(children=(IntProgress(value=0, max=28026), HTML(value='')))"
      ]
     },
     "metadata": {},
     "output_type": "display_data"
    }
   ],
   "source": [
    "output_txt = 'articles_output.txt'\n",
    "total_sites = 28026\n",
    "path = '../content/'\n",
    "\n",
    "with tqdm_notebook(total=total_sites) as pbar:\n",
    "    with open(output_txt, 'w') as out_f:\n",
    "        out_f.write('{}\\t{}\\n'.format('doc_id', 'articles'))\n",
    "        for doc_id in range(1,total_sites+1):\n",
    "            with open(path + str(doc_id) + \".dat\",'r') as in_f:       \n",
    "                soup = BeautifulSoup(in_f, 'lxml')\n",
    "                result = [i.text.lower() for i in soup.find_all('article')]\n",
    "                result = [i for i in re.split(r'\\W+', ' '.join(result)) if i]\n",
    "                result = [re.sub(r'[^ёЁА-я]', '', i) for i in result]\n",
    "                morth=pymorphy2.MorphAnalyzer()\n",
    "                result = [morth.parse(word)[0].normal_form  for word in result if pos(word) not in functors_pos]\n",
    "                result = [word for word in result if word not in russian_stopwords and len(word)>2]\n",
    "                result = re.sub('\\s+',' ', ' '.join(result))   \n",
    "\n",
    "                out_f.write('{}\\t{}\\n'.format(doc_id, result))\n",
    "                pbar.update()"
   ]
  },
  {
   "cell_type": "code",
   "execution_count": 45,
   "metadata": {
    "scrolled": true
   },
   "outputs": [
    {
     "data": {
      "text/html": [
       "<div>\n",
       "<style scoped>\n",
       "    .dataframe tbody tr th:only-of-type {\n",
       "        vertical-align: middle;\n",
       "    }\n",
       "\n",
       "    .dataframe tbody tr th {\n",
       "        vertical-align: top;\n",
       "    }\n",
       "\n",
       "    .dataframe thead th {\n",
       "        text-align: right;\n",
       "    }\n",
       "</style>\n",
       "<table border=\"1\" class=\"dataframe\">\n",
       "  <thead>\n",
       "    <tr style=\"text-align: right;\">\n",
       "      <th></th>\n",
       "      <th>doc_id</th>\n",
       "      <th>articles</th>\n",
       "    </tr>\n",
       "  </thead>\n",
       "  <tbody>\n",
       "    <tr>\n",
       "      <th>0</th>\n",
       "      <td>1</td>\n",
       "      <td>NaN</td>\n",
       "    </tr>\n",
       "    <tr>\n",
       "      <th>1</th>\n",
       "      <td>2</td>\n",
       "      <td>NaN</td>\n",
       "    </tr>\n",
       "    <tr>\n",
       "      <th>2</th>\n",
       "      <td>3</td>\n",
       "      <td>NaN</td>\n",
       "    </tr>\n",
       "    <tr>\n",
       "      <th>3</th>\n",
       "      <td>4</td>\n",
       "      <td>NaN</td>\n",
       "    </tr>\n",
       "    <tr>\n",
       "      <th>4</th>\n",
       "      <td>5</td>\n",
       "      <td>NaN</td>\n",
       "    </tr>\n",
       "    <tr>\n",
       "      <th>5</th>\n",
       "      <td>6</td>\n",
       "      <td>NaN</td>\n",
       "    </tr>\n",
       "    <tr>\n",
       "      <th>6</th>\n",
       "      <td>7</td>\n",
       "      <td>NaN</td>\n",
       "    </tr>\n",
       "    <tr>\n",
       "      <th>7</th>\n",
       "      <td>8</td>\n",
       "      <td>NaN</td>\n",
       "    </tr>\n",
       "    <tr>\n",
       "      <th>8</th>\n",
       "      <td>9</td>\n",
       "      <td>число самый любимый лакомство особенно летний ...</td>\n",
       "    </tr>\n",
       "  </tbody>\n",
       "</table>\n",
       "</div>"
      ],
      "text/plain": [
       "   doc_id                                           articles\n",
       "0       1                                                NaN\n",
       "1       2                                                NaN\n",
       "2       3                                                NaN\n",
       "3       4                                                NaN\n",
       "4       5                                                NaN\n",
       "5       6                                                NaN\n",
       "6       7                                                NaN\n",
       "7       8                                                NaN\n",
       "8       9  число самый любимый лакомство особенно летний ..."
      ]
     },
     "execution_count": 45,
     "metadata": {},
     "output_type": "execute_result"
    }
   ],
   "source": [
    "df = pd.read_csv(output_txt, sep='\\t', encoding='utf-8', lineterminator='\\n')\n",
    "df.head(9)"
   ]
  },
  {
   "cell_type": "code",
   "execution_count": null,
   "metadata": {},
   "outputs": [],
   "source": [
    "group_df = pd.read_csv('train_groups.csv', sep=',', encoding='utf-8', lineterminator='\\n')\n",
    "group_df = group_df[['doc_id', 'group_id']]\n",
    "group_df.index = group_df.doc_id\n",
    "group_df.drop('doc_id', inplace=True, axis=1)\n",
    "group_df = group_df.sort_index()\n",
    "df = pd.merge(nimg_df, group_df, on='doc_id', how='left')\n",
    "\n",
    "group_df = pd.read_csv('test_groups.csv', sep=',', encoding='utf-8', lineterminator='\\n')\n",
    "group_df = group_df[['doc_id', 'group_id']]\n",
    "group_df.index = group_df.doc_id\n",
    "group_df.drop('doc_id', inplace=True, axis=1)\n",
    "group_df = group_df.sort_index()\n",
    "df = pd.merge(df, group_df, on='doc_id', how='left')\n",
    "\n",
    "df['group_id'] = df.where(pd.notna(df.group_id_x), df.group_id_y, axis=0).group_id_x.astype(int)\n",
    "df.drop(['group_id_x','group_id_y'], inplace=True, axis=1)"
   ]
  }
 ],
 "metadata": {
  "kernelspec": {
   "display_name": "Python 3",
   "language": "python",
   "name": "python3"
  },
  "language_info": {
   "codemirror_mode": {
    "name": "ipython",
    "version": 3
   },
   "file_extension": ".py",
   "mimetype": "text/x-python",
   "name": "python",
   "nbconvert_exporter": "python",
   "pygments_lexer": "ipython3",
   "version": "3.7.3"
  }
 },
 "nbformat": 4,
 "nbformat_minor": 2
}
