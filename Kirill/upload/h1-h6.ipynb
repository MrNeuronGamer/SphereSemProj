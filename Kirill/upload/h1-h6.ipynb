{
 "cells": [
  {
   "cell_type": "code",
   "execution_count": 1,
   "metadata": {},
   "outputs": [],
   "source": [
    "from bs4 import BeautifulSoup\n",
    "import re\n",
    "import codecs\n",
    "import numpy as np\n",
    "import pandas as pd\n",
    "from tqdm import tqdm_notebook\n",
    "import pymorphy2 \n",
    "from pymystem3 import Mystem"
   ]
  },
  {
   "cell_type": "code",
   "execution_count": 2,
   "metadata": {},
   "outputs": [],
   "source": [
    "from nltk.corpus import stopwords\n",
    "russian_stopwords = stopwords.words(\"russian\")"
   ]
  },
  {
   "cell_type": "markdown",
   "metadata": {},
   "source": [
    "### mystem"
   ]
  },
  {
   "cell_type": "code",
   "execution_count": 3,
   "metadata": {},
   "outputs": [],
   "source": [
    "output_txt = 'h1_h6_output_mystem.txt'\n",
    "total_sites = 28026\n",
    "path = '../content/'"
   ]
  },
  {
   "cell_type": "code",
   "execution_count": 4,
   "metadata": {
    "scrolled": true
   },
   "outputs": [
    {
     "data": {
      "application/vnd.jupyter.widget-view+json": {
       "model_id": "476c8fa2aef74957b43a4d2d0d9d25e7",
       "version_major": 2,
       "version_minor": 0
      },
      "text/plain": [
       "HBox(children=(IntProgress(value=0, max=28026), HTML(value='')))"
      ]
     },
     "metadata": {},
     "output_type": "display_data"
    },
    {
     "name": "stdout",
     "output_type": "stream",
     "text": [
      "\n"
     ]
    }
   ],
   "source": [
    "m = Mystem()\n",
    "\n",
    "with tqdm_notebook(total=total_sites) as pbar:\n",
    "    with open(output_txt, 'w') as out_f:\n",
    "        out_f.write('{}\\t{}\\t{}\\t{}\\t{}\\t{}\\t{}\\n'.format('doc_id', 'h1', 'h2', 'h3', 'h4', 'h5', 'h6'))\n",
    "        for doc_id in range(1,total_sites+1):\n",
    "            out_f.write('{}\\t'.format(doc_id))\n",
    "            with codecs.open(path + str(doc_id) + '.dat', 'r', 'utf-8') as in_f:\n",
    "                soup = BeautifulSoup(in_f, 'lxml')\n",
    "                for i in range(1,7):\n",
    "                    h_all = soup.find_all('h{}'.format(i))\n",
    "                    result = [i for i in re.split(r'\\W+', str(h_all).lower()) if i]\n",
    "                    result = [re.sub(r'[^ёЁА-я]', '', i) for i in result]\n",
    "                    result = m.lemmatize(' '.join(result))\n",
    "                    result = [u for u in result if len(u) > 2 and u not in russian_stopwords]\n",
    "                    result = re.sub('\\s+',' ', ' '.join(result))   \n",
    "                        \n",
    "                    if i == 6:\n",
    "                        out_f.write('{}\\n'.format(result))\n",
    "                    else:\n",
    "                        out_f.write('{}\\t'.format(result)) \n",
    "                pbar.update()"
   ]
  },
  {
   "cell_type": "code",
   "execution_count": 5,
   "metadata": {},
   "outputs": [
    {
     "data": {
      "text/html": [
       "<div>\n",
       "<style scoped>\n",
       "    .dataframe tbody tr th:only-of-type {\n",
       "        vertical-align: middle;\n",
       "    }\n",
       "\n",
       "    .dataframe tbody tr th {\n",
       "        vertical-align: top;\n",
       "    }\n",
       "\n",
       "    .dataframe thead th {\n",
       "        text-align: right;\n",
       "    }\n",
       "</style>\n",
       "<table border=\"1\" class=\"dataframe\">\n",
       "  <thead>\n",
       "    <tr style=\"text-align: right;\">\n",
       "      <th></th>\n",
       "      <th>doc_id</th>\n",
       "      <th>h1</th>\n",
       "      <th>h2</th>\n",
       "      <th>h3</th>\n",
       "      <th>h4</th>\n",
       "      <th>h5</th>\n",
       "      <th>h6</th>\n",
       "    </tr>\n",
       "  </thead>\n",
       "  <tbody>\n",
       "    <tr>\n",
       "      <th>0</th>\n",
       "      <td>1</td>\n",
       "      <td>аншин центр репродукция генетика фертимед москва</td>\n",
       "      <td>температура тело особенность поведение особенн...</td>\n",
       "      <td>NaN</td>\n",
       "      <td>NaN</td>\n",
       "      <td>NaN</td>\n",
       "      <td>NaN</td>\n",
       "    </tr>\n",
       "    <tr>\n",
       "      <th>1</th>\n",
       "      <td>2</td>\n",
       "      <td>перевод киви кошелек</td>\n",
       "      <td>переводить деньги киви кошелек киви кошелек п...</td>\n",
       "      <td>навигация сайт</td>\n",
       "      <td>NaN</td>\n",
       "      <td>NaN</td>\n",
       "      <td>NaN</td>\n",
       "    </tr>\n",
       "    <tr>\n",
       "      <th>2</th>\n",
       "      <td>3</td>\n",
       "      <td>проект патруль время реабилитация духовный сущ...</td>\n",
       "      <td>деньги экономика обмен финансы деньги процент</td>\n",
       "      <td>деньги экономика обмен финансы деньги процент...</td>\n",
       "      <td>NaN</td>\n",
       "      <td>NaN</td>\n",
       "      <td>NaN</td>\n",
       "    </tr>\n",
       "    <tr>\n",
       "      <th>3</th>\n",
       "      <td>4</td>\n",
       "      <td>клуб преподавание начальный класс блог лента ...</td>\n",
       "      <td>NaN</td>\n",
       "      <td>NaN</td>\n",
       "      <td>NaN</td>\n",
       "      <td>NaN</td>\n",
       "      <td>NaN</td>\n",
       "    </tr>\n",
       "    <tr>\n",
       "      <th>4</th>\n",
       "      <td>5</td>\n",
       "      <td>быстро понижать холестерин высокий холестерин</td>\n",
       "      <td>норма холестерин кровь правильно питаться сниж...</td>\n",
       "      <td>липа снижение холестерин фасоль снижать холест...</td>\n",
       "      <td>комментарий обновлять список комментарий</td>\n",
       "      <td>NaN</td>\n",
       "      <td>NaN</td>\n",
       "    </tr>\n",
       "  </tbody>\n",
       "</table>\n",
       "</div>"
      ],
      "text/plain": [
       "   doc_id                                                 h1  \\\n",
       "0       1   аншин центр репродукция генетика фертимед москва   \n",
       "1       2                               перевод киви кошелек   \n",
       "2       3  проект патруль время реабилитация духовный сущ...   \n",
       "3       4   клуб преподавание начальный класс блог лента ...   \n",
       "4       5      быстро понижать холестерин высокий холестерин   \n",
       "\n",
       "                                                  h2  \\\n",
       "0  температура тело особенность поведение особенн...   \n",
       "1   переводить деньги киви кошелек киви кошелек п...   \n",
       "2     деньги экономика обмен финансы деньги процент    \n",
       "3                                                NaN   \n",
       "4  норма холестерин кровь правильно питаться сниж...   \n",
       "\n",
       "                                                  h3  \\\n",
       "0                                                NaN   \n",
       "1                                    навигация сайт    \n",
       "2   деньги экономика обмен финансы деньги процент...   \n",
       "3                                                NaN   \n",
       "4  липа снижение холестерин фасоль снижать холест...   \n",
       "\n",
       "                                          h4   h5   h6  \n",
       "0                                        NaN  NaN  NaN  \n",
       "1                                        NaN  NaN  NaN  \n",
       "2                                        NaN  NaN  NaN  \n",
       "3                                        NaN  NaN  NaN  \n",
       "4  комментарий обновлять список комментарий   NaN  NaN  "
      ]
     },
     "execution_count": 5,
     "metadata": {},
     "output_type": "execute_result"
    }
   ],
   "source": [
    "df = pd.read_csv(output_txt, sep='\\t', encoding='utf-8', lineterminator='\\n')\n",
    "df.head()"
   ]
  },
  {
   "cell_type": "code",
   "execution_count": 6,
   "metadata": {},
   "outputs": [],
   "source": [
    "df[['doc_id', 'h1']].to_csv('h1_mystem.txt',  index=False, sep='\\t')\n",
    "df[['doc_id', 'h2']].to_csv('h2_mystem.txt',  index=False, sep='\\t')\n",
    "df[['doc_id', 'h3']].to_csv('h3_mystem.txt',  index=False, sep='\\t')\n",
    "df[['doc_id', 'h4']].to_csv('h4_mystem.txt',  index=False, sep='\\t')\n",
    "df[['doc_id', 'h5']].to_csv('h5_mystem.txt',  index=False, sep='\\t')\n",
    "df[['doc_id', 'h6']].to_csv('h6_mystem.txt',  index=False, sep='\\t')"
   ]
  },
  {
   "cell_type": "markdown",
   "metadata": {},
   "source": [
    "### pymorphy2"
   ]
  },
  {
   "cell_type": "code",
   "execution_count": 3,
   "metadata": {},
   "outputs": [],
   "source": [
    "output_txt = 'h1_h6_output_pymorphy2_tail2.txt'\n",
    "total_sites = 28026\n",
    "path = '../content/'"
   ]
  },
  {
   "cell_type": "code",
   "execution_count": 4,
   "metadata": {},
   "outputs": [],
   "source": [
    "def pos(word, morth=pymorphy2.MorphAnalyzer()):\n",
    "    \"Return a likely part of speech for the *word*.\"\"\"\n",
    "    return morth.parse(word)[0].tag.POS\n",
    "functors_pos = {'INTJ', 'PRCL', 'CONJ', 'PREP'}  # function words"
   ]
  },
  {
   "cell_type": "code",
   "execution_count": 5,
   "metadata": {},
   "outputs": [
    {
     "data": {
      "application/vnd.jupyter.widget-view+json": {
       "model_id": "89cf417962934339a22f7a1c21d2b87d",
       "version_major": 2,
       "version_minor": 0
      },
      "text/plain": [
       "HBox(children=(IntProgress(value=0, max=28026), HTML(value='')))"
      ]
     },
     "metadata": {},
     "output_type": "display_data"
    },
    {
     "name": "stdout",
     "output_type": "stream",
     "text": [
      "\n"
     ]
    }
   ],
   "source": [
    "doc_to_title = {}\n",
    "with tqdm_notebook(total=total_sites) as pbar:\n",
    "    with open(output_txt, 'w') as out_f:\n",
    "        out_f.write('{}\\t{}\\t{}\\t{}\\t{}\\t{}\\t{}\\n'.format('doc_id', 'h1', 'h2', 'h3', 'h4', 'h5', 'h6'))\n",
    "        for doc_id in range(1,total_sites+1):\n",
    "            out_f.write('{}\\t'.format(doc_id))\n",
    "            with open(path + str(doc_id) + \".dat\",'r') as in_f:\n",
    "                soup = BeautifulSoup(in_f, 'html.parser')\n",
    "                for i in range(1,7):   \n",
    "                    h_all = str(soup.find_all('h{}'.format(i))).lower()\n",
    "                    result = [i for i in re.split(r'\\W+', h_all) if i] \n",
    "                    result = [re.sub(r'[^ёЁА-я]', '', i) for i in result]\n",
    "                    morth=pymorphy2.MorphAnalyzer()\n",
    "                    result = [morth.parse(word)[0].normal_form  for word in result if \\\n",
    "                              pos(word) not in functors_pos]\n",
    "                    result = [word for word in result if word not in russian_stopwords and len(word)>2]\n",
    "                    result = re.sub('\\s+',' ', ' '.join(result))   \n",
    "\n",
    "                    if i == 6:\n",
    "                        out_f.write('{}\\n'.format(result))\n",
    "                    else:\n",
    "                        out_f.write('{}\\t'.format(result)) \n",
    "                pbar.update()"
   ]
  },
  {
   "cell_type": "code",
   "execution_count": 6,
   "metadata": {},
   "outputs": [
    {
     "data": {
      "text/html": [
       "<div>\n",
       "<style scoped>\n",
       "    .dataframe tbody tr th:only-of-type {\n",
       "        vertical-align: middle;\n",
       "    }\n",
       "\n",
       "    .dataframe tbody tr th {\n",
       "        vertical-align: top;\n",
       "    }\n",
       "\n",
       "    .dataframe thead th {\n",
       "        text-align: right;\n",
       "    }\n",
       "</style>\n",
       "<table border=\"1\" class=\"dataframe\">\n",
       "  <thead>\n",
       "    <tr style=\"text-align: right;\">\n",
       "      <th></th>\n",
       "      <th>doc_id</th>\n",
       "      <th>h1</th>\n",
       "      <th>h2</th>\n",
       "      <th>h3</th>\n",
       "      <th>h4</th>\n",
       "      <th>h5</th>\n",
       "      <th>h6</th>\n",
       "    </tr>\n",
       "  </thead>\n",
       "  <tbody>\n",
       "    <tr>\n",
       "      <th>0</th>\n",
       "      <td>1</td>\n",
       "      <td>метр аншина центр репродукция генетик фертимед...</td>\n",
       "      <td>температура тело особенность поведение особенн...</td>\n",
       "      <td>NaN</td>\n",
       "      <td>NaN</td>\n",
       "      <td>NaN</td>\n",
       "      <td>NaN</td>\n",
       "    </tr>\n",
       "    <tr>\n",
       "      <th>1</th>\n",
       "      <td>2</td>\n",
       "      <td>перевод киви кошелёк</td>\n",
       "      <td>перевести деньга киви кошелёк киви кошелёк пер...</td>\n",
       "      <td>навигация сайт</td>\n",
       "      <td>NaN</td>\n",
       "      <td>NaN</td>\n",
       "      <td>NaN</td>\n",
       "    </tr>\n",
       "    <tr>\n",
       "      <th>2</th>\n",
       "      <td>3</td>\n",
       "      <td>проект патруль время реабилитация духовный сущ...</td>\n",
       "      <td>деньга экономика обмен финансы деньга процент</td>\n",
       "      <td>деньга экономика обмен финансы деньга процент ...</td>\n",
       "      <td>NaN</td>\n",
       "      <td>NaN</td>\n",
       "      <td>NaN</td>\n",
       "    </tr>\n",
       "    <tr>\n",
       "      <th>3</th>\n",
       "      <td>4</td>\n",
       "      <td>клуб преподавание начальный класс блог лента л...</td>\n",
       "      <td>NaN</td>\n",
       "      <td>NaN</td>\n",
       "      <td>NaN</td>\n",
       "      <td>NaN</td>\n",
       "      <td>NaN</td>\n",
       "    </tr>\n",
       "    <tr>\n",
       "      <th>4</th>\n",
       "      <td>5</td>\n",
       "      <td>быстро понизить холестерин высокий холестерин</td>\n",
       "      <td>норма холестерин кровь правильно питаться сниз...</td>\n",
       "      <td>липа снижение холестерин фасоль снизить холест...</td>\n",
       "      <td>комментарий обновить список комментарий</td>\n",
       "      <td>NaN</td>\n",
       "      <td>NaN</td>\n",
       "    </tr>\n",
       "  </tbody>\n",
       "</table>\n",
       "</div>"
      ],
      "text/plain": [
       "   doc_id                                                 h1  \\\n",
       "0       1  метр аншина центр репродукция генетик фертимед...   \n",
       "1       2                               перевод киви кошелёк   \n",
       "2       3  проект патруль время реабилитация духовный сущ...   \n",
       "3       4  клуб преподавание начальный класс блог лента л...   \n",
       "4       5      быстро понизить холестерин высокий холестерин   \n",
       "\n",
       "                                                  h2  \\\n",
       "0  температура тело особенность поведение особенн...   \n",
       "1  перевести деньга киви кошелёк киви кошелёк пер...   \n",
       "2      деньга экономика обмен финансы деньга процент   \n",
       "3                                                NaN   \n",
       "4  норма холестерин кровь правильно питаться сниз...   \n",
       "\n",
       "                                                  h3  \\\n",
       "0                                                NaN   \n",
       "1                                     навигация сайт   \n",
       "2  деньга экономика обмен финансы деньга процент ...   \n",
       "3                                                NaN   \n",
       "4  липа снижение холестерин фасоль снизить холест...   \n",
       "\n",
       "                                        h4   h5   h6  \n",
       "0                                      NaN  NaN  NaN  \n",
       "1                                      NaN  NaN  NaN  \n",
       "2                                      NaN  NaN  NaN  \n",
       "3                                      NaN  NaN  NaN  \n",
       "4  комментарий обновить список комментарий  NaN  NaN  "
      ]
     },
     "execution_count": 6,
     "metadata": {},
     "output_type": "execute_result"
    }
   ],
   "source": [
    "df = pd.read_csv(output_txt, sep='\\t', encoding='utf-8', lineterminator='\\n')\n",
    "df.head()"
   ]
  },
  {
   "cell_type": "code",
   "execution_count": 7,
   "metadata": {},
   "outputs": [],
   "source": [
    "df[['doc_id', 'h1']].to_csv('h1_pymorphy2.txt',  index=False, sep='\\t')\n",
    "df[['doc_id', 'h2']].to_csv('h2_pymorphy2.txt',  index=False, sep='\\t')\n",
    "df[['doc_id', 'h3']].to_csv('h3_pymorphy2.txt',  index=False, sep='\\t')\n",
    "df[['doc_id', 'h4']].to_csv('h4_pymorphy2.txt',  index=False, sep='\\t')\n",
    "df[['doc_id', 'h5']].to_csv('h5_pymorphy2.txt',  index=False, sep='\\t')\n",
    "df[['doc_id', 'h6']].to_csv('h6_pymorphy2.txt',  index=False, sep='\\t')"
   ]
  },
  {
   "cell_type": "code",
   "execution_count": null,
   "metadata": {},
   "outputs": [],
   "source": []
  }
 ],
 "metadata": {
  "kernelspec": {
   "display_name": "Python 3",
   "language": "python",
   "name": "python3"
  },
  "language_info": {
   "codemirror_mode": {
    "name": "ipython",
    "version": 3
   },
   "file_extension": ".py",
   "mimetype": "text/x-python",
   "name": "python",
   "nbconvert_exporter": "python",
   "pygments_lexer": "ipython3",
   "version": "3.7.3"
  }
 },
 "nbformat": 4,
 "nbformat_minor": 2
}
