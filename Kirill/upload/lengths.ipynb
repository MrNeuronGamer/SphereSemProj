{
 "cells": [
  {
   "cell_type": "code",
   "execution_count": 17,
   "metadata": {},
   "outputs": [],
   "source": [
    "from bs4 import BeautifulSoup\n",
    "import re\n",
    "import codecs\n",
    "import numpy as np\n",
    "import pandas as pd\n",
    "from tqdm import tqdm_notebook\n",
    "import os"
   ]
  },
  {
   "cell_type": "code",
   "execution_count": 18,
   "metadata": {
    "scrolled": true
   },
   "outputs": [
    {
     "data": {
      "application/vnd.jupyter.widget-view+json": {
       "model_id": "9d305e9e969f4aa89d66efdef80a1f7c",
       "version_major": 2,
       "version_minor": 0
      },
      "text/plain": [
       "HBox(children=(IntProgress(value=0, max=28026), HTML(value='')))"
      ]
     },
     "metadata": {},
     "output_type": "display_data"
    },
    {
     "name": "stdout",
     "output_type": "stream",
     "text": [
      "\n"
     ]
    }
   ],
   "source": [
    "output_txt = 'lengths_output_tail.txt'\n",
    "total_sites = 28026\n",
    "path = '../content/'\n",
    "\n",
    "\n",
    "tag_list = ['addres', 'article', 'abbr', 'applet', \\\n",
    "            'aside', 'acronym', 'area', 'audio', 'b', 'bdi', \\\n",
    "            'blockquote', 'blink', 'base', 'bdo', 'big', 'br', 'basefont', \\\n",
    "            'bgsound', 'body', 'button', 'canvas', 'cite', 'colgroup', 'caption', \\\n",
    "            'code', 'command', 'center', 'col', 'comment', 'datalist', 'details', \\\n",
    "            'div', 'dd', 'dfn', 'dl', 'del', 'dir', 'dt', 'em', 'embed', 'fieldset', \\\n",
    "            'figure', 'form', 'frame', 'figcaption', 'font', 'footer', 'frameset', \\\n",
    "            'h1', 'h2', 'h3', 'h4', 'h5', 'h6', 'head', 'hr', 'header', 'html', 'hgroup', \\\n",
    "            'i', 'ins', 'iframe', 'input', 'isindex', 'kdb', 'keygen', 'label', 'legend', \\\n",
    "            'li', 'link', 'main', 'marquee', 'menu', 'meter', 'map', 'mark', 'meta', \\\n",
    "            'nav', 'noembed', 'noscript', 'nobr', 'noframes', 'object', 'optgroup', 'output', \\\n",
    "            'ol', 'option', 'p', 'plaintext', 'progress', 'param', 'pre', 'q', 'rt', 'rp', 'ruby', \\\n",
    "            's', 'select', 'strike', 'summary', 'samp', 'small', 'strong', 'sup', 'script', 'span', \\\n",
    "            'style', 'section', 'source', 'sub', 'table', 'textarea', 'thread', 'tr', 'tbody', \\\n",
    "            'tfoot', 'time', 'tt', 'td', 'th', 'title', 'u', 'ul', 'var', 'video', 'wbr', 'xmp']\n",
    "with tqdm_notebook(total=total_sites) as pbar:\n",
    "    with open(output_txt, 'w') as out_f:\n",
    "        out_f.write('doc_id')\n",
    "        for tag in tag_list:\n",
    "            out_f.write('\\t{}'.format(tag))\n",
    "        out_f.write('\\n')\n",
    "        for doc_id in range(1,total_sites+1):\n",
    "            out_f.write('{}'.format(doc_id))\n",
    "            with open(path + str(doc_id) + \".dat\",'r') as in_f:       \n",
    "                soup = BeautifulSoup(in_f, 'lxml')          \n",
    "                num_tag_list = []\n",
    "                for tag in tag_list:\n",
    "                    len_tag = len(soup.find_all(tag))\n",
    "                    out_f.write('\\t{}'.format(len_tag))\n",
    "                \n",
    "                out_f.write('\\n')\n",
    "                pbar.update()"
   ]
  },
  {
   "cell_type": "code",
   "execution_count": 6,
   "metadata": {
    "scrolled": true
   },
   "outputs": [],
   "source": [
    "df = pd.read_csv(output_txt, sep='\\t', encoding='utf-8', lineterminator='\\n')"
   ]
  },
  {
   "cell_type": "code",
   "execution_count": 16,
   "metadata": {},
   "outputs": [],
   "source": [
    "df.describe().to_csv('temp', sep='\\t')"
   ]
  },
  {
   "cell_type": "code",
   "execution_count": null,
   "metadata": {},
   "outputs": [],
   "source": []
  }
 ],
 "metadata": {
  "kernelspec": {
   "display_name": "Python 3",
   "language": "python",
   "name": "python3"
  },
  "language_info": {
   "codemirror_mode": {
    "name": "ipython",
    "version": 3
   },
   "file_extension": ".py",
   "mimetype": "text/x-python",
   "name": "python",
   "nbconvert_exporter": "python",
   "pygments_lexer": "ipython3",
   "version": "3.7.3"
  }
 },
 "nbformat": 4,
 "nbformat_minor": 2
}
