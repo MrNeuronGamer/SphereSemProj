{
 "cells": [
  {
   "cell_type": "code",
   "execution_count": 1,
   "metadata": {},
   "outputs": [],
   "source": [
    "from bs4 import BeautifulSoup\n",
    "import re\n",
    "import codecs\n",
    "import numpy as np\n",
    "import pandas as pd\n",
    "from tqdm import tqdm_notebook\n",
    "import os"
   ]
  },
  {
   "cell_type": "code",
   "execution_count": 2,
   "metadata": {},
   "outputs": [],
   "source": [
    "output_txt = 'punctuation_output.txt'\n",
    "total_sites = 28026\n",
    "path = '../content/'"
   ]
  },
  {
   "cell_type": "code",
   "execution_count": 38,
   "metadata": {},
   "outputs": [
    {
     "data": {
      "application/vnd.jupyter.widget-view+json": {
       "model_id": "4d3bbadfb5c945dfb0a0d6fc96065321",
       "version_major": 2,
       "version_minor": 0
      },
      "text/plain": [
       "HBox(children=(IntProgress(value=0, max=28026), HTML(value='')))"
      ]
     },
     "metadata": {},
     "output_type": "display_data"
    },
    {
     "name": "stdout",
     "output_type": "stream",
     "text": [
      "\n"
     ]
    }
   ],
   "source": [
    "with tqdm_notebook(total=total_sites) as pbar:\n",
    "    with open(output_txt, 'w') as out_f:\n",
    "        out_f.write('{}\\t{}\\t{}\\t{}\\t{}\\n'.format('doc_id', 'excl_mrk_num', 'ques_mrk_num', \\\n",
    "                                                  'poin_mrk_num', 'ellp_mrk_num'))\n",
    "        for doc_id in range(1,total_sites+1):\n",
    "            with open(path + str(doc_id) + \".dat\",'r') as in_f:\n",
    "            \n",
    "                soup = BeautifulSoup(in_f, 'html.parser')\n",
    "                excl_mrk_num = len(re.findall(r'[ёЁА-я]+!', soup.text))\n",
    "                ques_mrk_num = len(re.findall(r'[ёЁА-я]+\\?', soup.text))\n",
    "                poin_mrk_num = len(re.findall(r'[ёЁА-я]+\\.', soup.text))\n",
    "                ellp_mrk_num = len(re.findall(r'[ёЁА-я]+\\.\\.\\.', soup.text))\n",
    "\n",
    "                out_f.write('{}\\t{}\\t{}\\t{}\\t{}\\n'.format(doc_id, excl_mrk_num, ques_mrk_num, \\\n",
    "                                                          poin_mrk_num, ellp_mrk_num))\n",
    "                pbar.update()"
   ]
  },
  {
   "cell_type": "code",
   "execution_count": 3,
   "metadata": {},
   "outputs": [
    {
     "data": {
      "text/html": [
       "<div>\n",
       "<style scoped>\n",
       "    .dataframe tbody tr th:only-of-type {\n",
       "        vertical-align: middle;\n",
       "    }\n",
       "\n",
       "    .dataframe tbody tr th {\n",
       "        vertical-align: top;\n",
       "    }\n",
       "\n",
       "    .dataframe thead th {\n",
       "        text-align: right;\n",
       "    }\n",
       "</style>\n",
       "<table border=\"1\" class=\"dataframe\">\n",
       "  <thead>\n",
       "    <tr style=\"text-align: right;\">\n",
       "      <th></th>\n",
       "      <th>doc_id</th>\n",
       "      <th>excl_mrk_num</th>\n",
       "      <th>ques_mrk_num</th>\n",
       "      <th>poin_mrk_num</th>\n",
       "      <th>ellp_mrk_num</th>\n",
       "    </tr>\n",
       "  </thead>\n",
       "  <tbody>\n",
       "    <tr>\n",
       "      <th>0</th>\n",
       "      <td>1</td>\n",
       "      <td>0</td>\n",
       "      <td>11</td>\n",
       "      <td>202</td>\n",
       "      <td>3</td>\n",
       "    </tr>\n",
       "    <tr>\n",
       "      <th>1</th>\n",
       "      <td>2</td>\n",
       "      <td>0</td>\n",
       "      <td>4</td>\n",
       "      <td>34</td>\n",
       "      <td>0</td>\n",
       "    </tr>\n",
       "    <tr>\n",
       "      <th>2</th>\n",
       "      <td>3</td>\n",
       "      <td>57</td>\n",
       "      <td>175</td>\n",
       "      <td>2747</td>\n",
       "      <td>86</td>\n",
       "    </tr>\n",
       "    <tr>\n",
       "      <th>3</th>\n",
       "      <td>4</td>\n",
       "      <td>4</td>\n",
       "      <td>117</td>\n",
       "      <td>2544</td>\n",
       "      <td>7</td>\n",
       "    </tr>\n",
       "    <tr>\n",
       "      <th>4</th>\n",
       "      <td>5</td>\n",
       "      <td>28</td>\n",
       "      <td>9</td>\n",
       "      <td>367</td>\n",
       "      <td>22</td>\n",
       "    </tr>\n",
       "  </tbody>\n",
       "</table>\n",
       "</div>"
      ],
      "text/plain": [
       "   doc_id  excl_mrk_num  ques_mrk_num  poin_mrk_num  ellp_mrk_num\n",
       "0       1             0            11           202             3\n",
       "1       2             0             4            34             0\n",
       "2       3            57           175          2747            86\n",
       "3       4             4           117          2544             7\n",
       "4       5            28             9           367            22"
      ]
     },
     "execution_count": 3,
     "metadata": {},
     "output_type": "execute_result"
    }
   ],
   "source": [
    "df = pd.read_csv(output_txt, sep='\\t', encoding='utf-8', lineterminator='\\n')\n",
    "df.head()"
   ]
  },
  {
   "cell_type": "code",
   "execution_count": 40,
   "metadata": {},
   "outputs": [
    {
     "data": {
      "text/html": [
       "<div>\n",
       "<style scoped>\n",
       "    .dataframe tbody tr th:only-of-type {\n",
       "        vertical-align: middle;\n",
       "    }\n",
       "\n",
       "    .dataframe tbody tr th {\n",
       "        vertical-align: top;\n",
       "    }\n",
       "\n",
       "    .dataframe thead th {\n",
       "        text-align: right;\n",
       "    }\n",
       "</style>\n",
       "<table border=\"1\" class=\"dataframe\">\n",
       "  <thead>\n",
       "    <tr style=\"text-align: right;\">\n",
       "      <th></th>\n",
       "      <th>doc_id</th>\n",
       "      <th>excl_mrk_num</th>\n",
       "      <th>ques_mrk_num</th>\n",
       "      <th>poin_mrk_num</th>\n",
       "      <th>ellp_mrk_num</th>\n",
       "    </tr>\n",
       "  </thead>\n",
       "  <tbody>\n",
       "    <tr>\n",
       "      <th>count</th>\n",
       "      <td>28026.000000</td>\n",
       "      <td>28026.000000</td>\n",
       "      <td>28026.000000</td>\n",
       "      <td>28026.000000</td>\n",
       "      <td>28026.000000</td>\n",
       "    </tr>\n",
       "    <tr>\n",
       "      <th>mean</th>\n",
       "      <td>14013.500000</td>\n",
       "      <td>44.633269</td>\n",
       "      <td>53.399451</td>\n",
       "      <td>641.717370</td>\n",
       "      <td>21.742989</td>\n",
       "    </tr>\n",
       "    <tr>\n",
       "      <th>std</th>\n",
       "      <td>8090.553658</td>\n",
       "      <td>207.963022</td>\n",
       "      <td>203.914824</td>\n",
       "      <td>1794.826849</td>\n",
       "      <td>115.601917</td>\n",
       "    </tr>\n",
       "    <tr>\n",
       "      <th>min</th>\n",
       "      <td>1.000000</td>\n",
       "      <td>0.000000</td>\n",
       "      <td>0.000000</td>\n",
       "      <td>0.000000</td>\n",
       "      <td>0.000000</td>\n",
       "    </tr>\n",
       "    <tr>\n",
       "      <th>25%</th>\n",
       "      <td>7007.250000</td>\n",
       "      <td>1.000000</td>\n",
       "      <td>2.000000</td>\n",
       "      <td>45.000000</td>\n",
       "      <td>0.000000</td>\n",
       "    </tr>\n",
       "    <tr>\n",
       "      <th>50%</th>\n",
       "      <td>14013.500000</td>\n",
       "      <td>4.000000</td>\n",
       "      <td>7.000000</td>\n",
       "      <td>106.000000</td>\n",
       "      <td>1.000000</td>\n",
       "    </tr>\n",
       "    <tr>\n",
       "      <th>75%</th>\n",
       "      <td>21019.750000</td>\n",
       "      <td>18.000000</td>\n",
       "      <td>23.000000</td>\n",
       "      <td>418.000000</td>\n",
       "      <td>8.000000</td>\n",
       "    </tr>\n",
       "    <tr>\n",
       "      <th>max</th>\n",
       "      <td>28026.000000</td>\n",
       "      <td>8676.000000</td>\n",
       "      <td>9191.000000</td>\n",
       "      <td>55464.000000</td>\n",
       "      <td>6262.000000</td>\n",
       "    </tr>\n",
       "  </tbody>\n",
       "</table>\n",
       "</div>"
      ],
      "text/plain": [
       "             doc_id  excl_mrk_num  ques_mrk_num  poin_mrk_num  ellp_mrk_num\n",
       "count  28026.000000  28026.000000  28026.000000  28026.000000  28026.000000\n",
       "mean   14013.500000     44.633269     53.399451    641.717370     21.742989\n",
       "std     8090.553658    207.963022    203.914824   1794.826849    115.601917\n",
       "min        1.000000      0.000000      0.000000      0.000000      0.000000\n",
       "25%     7007.250000      1.000000      2.000000     45.000000      0.000000\n",
       "50%    14013.500000      4.000000      7.000000    106.000000      1.000000\n",
       "75%    21019.750000     18.000000     23.000000    418.000000      8.000000\n",
       "max    28026.000000   8676.000000   9191.000000  55464.000000   6262.000000"
      ]
     },
     "execution_count": 40,
     "metadata": {},
     "output_type": "execute_result"
    }
   ],
   "source": [
    "df.describe()"
   ]
  },
  {
   "cell_type": "code",
   "execution_count": 56,
   "metadata": {},
   "outputs": [
    {
     "data": {
      "text/plain": [
       "<matplotlib.axes._subplots.AxesSubplot at 0x7f5dfe9da5c0>"
      ]
     },
     "execution_count": 56,
     "metadata": {},
     "output_type": "execute_result"
    },
    {
     "data": {
      "image/png": "[encoded data removed]",
      "text/plain": [
       "<Figure size 432x288 with 1 Axes>"
      ]
     },
     "metadata": {
      "needs_background": "light"
     },
     "output_type": "display_data"
    }
   ],
   "source": [
    "df['log_emn'] = df.excl_mrk_num.apply(lambda x: np.log(1+x))\n",
    "df.log_emn.hist(bins=20)"
   ]
  },
  {
   "cell_type": "code",
   "execution_count": 59,
   "metadata": {},
   "outputs": [
    {
     "data": {
      "text/plain": [
       "<matplotlib.axes._subplots.AxesSubplot at 0x7f5e060874a8>"
      ]
     },
     "execution_count": 59,
     "metadata": {},
     "output_type": "execute_result"
    },
    {
     "data": {
      "image/png": "[encoded data removed]",
      "text/plain": [
       "<Figure size 432x288 with 1 Axes>"
      ]
     },
     "metadata": {
      "needs_background": "light"
     },
     "output_type": "display_data"
    }
   ],
   "source": [
    "df['log_qmn'] = df.ques_mrk_num.apply(lambda x: np.log(1+x))\n",
    "df.log_qmn.hist(bins=20)"
   ]
  },
  {
   "cell_type": "code",
   "execution_count": 60,
   "metadata": {},
   "outputs": [
    {
     "data": {
      "text/plain": [
       "<matplotlib.axes._subplots.AxesSubplot at 0x7f5df7891c18>"
      ]
     },
     "execution_count": 60,
     "metadata": {},
     "output_type": "execute_result"
    },
    {
     "data": {
      "image/png": "[encoded data removed]",
      "text/plain": [
       "<Figure size 432x288 with 1 Axes>"
      ]
     },
     "metadata": {
      "needs_background": "light"
     },
     "output_type": "display_data"
    }
   ],
   "source": [
    "df['log_pmn'] = df.poin_mrk_num.apply(lambda x: np.log(1+x))\n",
    "df.log_pmn.hist(bins=20)"
   ]
  },
  {
   "cell_type": "code",
   "execution_count": 61,
   "metadata": {},
   "outputs": [
    {
     "data": {
      "text/plain": [
       "<matplotlib.axes._subplots.AxesSubplot at 0x7f5e067eba90>"
      ]
     },
     "execution_count": 61,
     "metadata": {},
     "output_type": "execute_result"
    },
    {
     "data": {
      "image/png": "[encoded data removed]",
      "text/plain": [
       "<Figure size 432x288 with 1 Axes>"
      ]
     },
     "metadata": {
      "needs_background": "light"
     },
     "output_type": "display_data"
    }
   ],
   "source": [
    "df['log_elmn'] = df.ellp_mrk_num.apply(lambda x: np.log(1+x))\n",
    "df.log_elmn.hist(bins=20)"
   ]
  },
  {
   "cell_type": "code",
   "execution_count": 64,
   "metadata": {},
   "outputs": [
    {
     "data": {
      "text/html": [
       "<div>\n",
       "<style scoped>\n",
       "    .dataframe tbody tr th:only-of-type {\n",
       "        vertical-align: middle;\n",
       "    }\n",
       "\n",
       "    .dataframe tbody tr th {\n",
       "        vertical-align: top;\n",
       "    }\n",
       "\n",
       "    .dataframe thead th {\n",
       "        text-align: right;\n",
       "    }\n",
       "</style>\n",
       "<table border=\"1\" class=\"dataframe\">\n",
       "  <thead>\n",
       "    <tr style=\"text-align: right;\">\n",
       "      <th></th>\n",
       "      <th>doc_id</th>\n",
       "      <th>excl_mrk_num</th>\n",
       "      <th>ques_mrk_num</th>\n",
       "      <th>poin_mrk_num</th>\n",
       "      <th>ellp_mrk_num</th>\n",
       "      <th>log_emn</th>\n",
       "      <th>log_qmn</th>\n",
       "      <th>log_pmn</th>\n",
       "      <th>log_elmn</th>\n",
       "    </tr>\n",
       "  </thead>\n",
       "  <tbody>\n",
       "    <tr>\n",
       "      <th>count</th>\n",
       "      <td>28026.000000</td>\n",
       "      <td>28026.000000</td>\n",
       "      <td>28026.000000</td>\n",
       "      <td>28026.000000</td>\n",
       "      <td>28026.000000</td>\n",
       "      <td>28026.000000</td>\n",
       "      <td>28026.000000</td>\n",
       "      <td>28026.000000</td>\n",
       "      <td>28026.000000</td>\n",
       "    </tr>\n",
       "    <tr>\n",
       "      <th>mean</th>\n",
       "      <td>14013.500000</td>\n",
       "      <td>44.633269</td>\n",
       "      <td>53.399451</td>\n",
       "      <td>641.717370</td>\n",
       "      <td>21.742989</td>\n",
       "      <td>1.982934</td>\n",
       "      <td>2.265659</td>\n",
       "      <td>4.953548</td>\n",
       "      <td>1.345597</td>\n",
       "    </tr>\n",
       "    <tr>\n",
       "      <th>std</th>\n",
       "      <td>8090.553658</td>\n",
       "      <td>207.963022</td>\n",
       "      <td>203.914824</td>\n",
       "      <td>1794.826849</td>\n",
       "      <td>115.601917</td>\n",
       "      <td>1.631781</td>\n",
       "      <td>1.664115</td>\n",
       "      <td>1.695680</td>\n",
       "      <td>1.503184</td>\n",
       "    </tr>\n",
       "    <tr>\n",
       "      <th>min</th>\n",
       "      <td>1.000000</td>\n",
       "      <td>0.000000</td>\n",
       "      <td>0.000000</td>\n",
       "      <td>0.000000</td>\n",
       "      <td>0.000000</td>\n",
       "      <td>0.000000</td>\n",
       "      <td>0.000000</td>\n",
       "      <td>0.000000</td>\n",
       "      <td>0.000000</td>\n",
       "    </tr>\n",
       "    <tr>\n",
       "      <th>25%</th>\n",
       "      <td>7007.250000</td>\n",
       "      <td>1.000000</td>\n",
       "      <td>2.000000</td>\n",
       "      <td>45.000000</td>\n",
       "      <td>0.000000</td>\n",
       "      <td>0.693147</td>\n",
       "      <td>1.098612</td>\n",
       "      <td>3.828641</td>\n",
       "      <td>0.000000</td>\n",
       "    </tr>\n",
       "    <tr>\n",
       "      <th>50%</th>\n",
       "      <td>14013.500000</td>\n",
       "      <td>4.000000</td>\n",
       "      <td>7.000000</td>\n",
       "      <td>106.000000</td>\n",
       "      <td>1.000000</td>\n",
       "      <td>1.609438</td>\n",
       "      <td>2.079442</td>\n",
       "      <td>4.672829</td>\n",
       "      <td>0.693147</td>\n",
       "    </tr>\n",
       "    <tr>\n",
       "      <th>75%</th>\n",
       "      <td>21019.750000</td>\n",
       "      <td>18.000000</td>\n",
       "      <td>23.000000</td>\n",
       "      <td>418.000000</td>\n",
       "      <td>8.000000</td>\n",
       "      <td>2.944439</td>\n",
       "      <td>3.178054</td>\n",
       "      <td>6.037871</td>\n",
       "      <td>2.197225</td>\n",
       "    </tr>\n",
       "    <tr>\n",
       "      <th>max</th>\n",
       "      <td>28026.000000</td>\n",
       "      <td>8676.000000</td>\n",
       "      <td>9191.000000</td>\n",
       "      <td>55464.000000</td>\n",
       "      <td>6262.000000</td>\n",
       "      <td>9.068431</td>\n",
       "      <td>9.126089</td>\n",
       "      <td>10.923507</td>\n",
       "      <td>8.742415</td>\n",
       "    </tr>\n",
       "  </tbody>\n",
       "</table>\n",
       "</div>"
      ],
      "text/plain": [
       "             doc_id  excl_mrk_num  ques_mrk_num  poin_mrk_num  ellp_mrk_num  \\\n",
       "count  28026.000000  28026.000000  28026.000000  28026.000000  28026.000000   \n",
       "mean   14013.500000     44.633269     53.399451    641.717370     21.742989   \n",
       "std     8090.553658    207.963022    203.914824   1794.826849    115.601917   \n",
       "min        1.000000      0.000000      0.000000      0.000000      0.000000   \n",
       "25%     7007.250000      1.000000      2.000000     45.000000      0.000000   \n",
       "50%    14013.500000      4.000000      7.000000    106.000000      1.000000   \n",
       "75%    21019.750000     18.000000     23.000000    418.000000      8.000000   \n",
       "max    28026.000000   8676.000000   9191.000000  55464.000000   6262.000000   \n",
       "\n",
       "            log_emn       log_qmn       log_pmn      log_elmn  \n",
       "count  28026.000000  28026.000000  28026.000000  28026.000000  \n",
       "mean       1.982934      2.265659      4.953548      1.345597  \n",
       "std        1.631781      1.664115      1.695680      1.503184  \n",
       "min        0.000000      0.000000      0.000000      0.000000  \n",
       "25%        0.693147      1.098612      3.828641      0.000000  \n",
       "50%        1.609438      2.079442      4.672829      0.693147  \n",
       "75%        2.944439      3.178054      6.037871      2.197225  \n",
       "max        9.068431      9.126089     10.923507      8.742415  "
      ]
     },
     "execution_count": 64,
     "metadata": {},
     "output_type": "execute_result"
    }
   ],
   "source": [
    "df.describe()"
   ]
  },
  {
   "cell_type": "code",
   "execution_count": 68,
   "metadata": {},
   "outputs": [],
   "source": [
    "df[['doc_id', 'log_emn', 'log_qmn', 'log_pmn', 'log_elmn']].to_csv(\"punctuation_output_log.txt\", \\\n",
    "                                                                   index=False, sep='\\t')"
   ]
  },
  {
   "cell_type": "code",
   "execution_count": 26,
   "metadata": {},
   "outputs": [
    {
     "data": {
      "text/html": [
       "<div>\n",
       "<style scoped>\n",
       "    .dataframe tbody tr th:only-of-type {\n",
       "        vertical-align: middle;\n",
       "    }\n",
       "\n",
       "    .dataframe tbody tr th {\n",
       "        vertical-align: top;\n",
       "    }\n",
       "\n",
       "    .dataframe thead th {\n",
       "        text-align: right;\n",
       "    }\n",
       "</style>\n",
       "<table border=\"1\" class=\"dataframe\">\n",
       "  <thead>\n",
       "    <tr style=\"text-align: right;\">\n",
       "      <th></th>\n",
       "      <th>doc_id</th>\n",
       "      <th>log_emn</th>\n",
       "      <th>log_qmn</th>\n",
       "      <th>log_pmn</th>\n",
       "      <th>log_elmn</th>\n",
       "    </tr>\n",
       "  </thead>\n",
       "  <tbody>\n",
       "    <tr>\n",
       "      <th>0</th>\n",
       "      <td>1</td>\n",
       "      <td>0.000000</td>\n",
       "      <td>2.484907</td>\n",
       "      <td>5.313206</td>\n",
       "      <td>1.386294</td>\n",
       "    </tr>\n",
       "    <tr>\n",
       "      <th>1</th>\n",
       "      <td>2</td>\n",
       "      <td>0.000000</td>\n",
       "      <td>1.609438</td>\n",
       "      <td>3.555348</td>\n",
       "      <td>0.000000</td>\n",
       "    </tr>\n",
       "    <tr>\n",
       "      <th>2</th>\n",
       "      <td>3</td>\n",
       "      <td>4.060443</td>\n",
       "      <td>5.170484</td>\n",
       "      <td>7.918629</td>\n",
       "      <td>4.465908</td>\n",
       "    </tr>\n",
       "    <tr>\n",
       "      <th>3</th>\n",
       "      <td>4</td>\n",
       "      <td>1.609438</td>\n",
       "      <td>4.770685</td>\n",
       "      <td>7.841886</td>\n",
       "      <td>2.079442</td>\n",
       "    </tr>\n",
       "    <tr>\n",
       "      <th>4</th>\n",
       "      <td>5</td>\n",
       "      <td>3.367296</td>\n",
       "      <td>2.302585</td>\n",
       "      <td>5.908083</td>\n",
       "      <td>3.135494</td>\n",
       "    </tr>\n",
       "  </tbody>\n",
       "</table>\n",
       "</div>"
      ],
      "text/plain": [
       "   doc_id   log_emn   log_qmn   log_pmn  log_elmn\n",
       "0       1  0.000000  2.484907  5.313206  1.386294\n",
       "1       2  0.000000  1.609438  3.555348  0.000000\n",
       "2       3  4.060443  5.170484  7.918629  4.465908\n",
       "3       4  1.609438  4.770685  7.841886  2.079442\n",
       "4       5  3.367296  2.302585  5.908083  3.135494"
      ]
     },
     "execution_count": 26,
     "metadata": {},
     "output_type": "execute_result"
    }
   ],
   "source": [
    "df = pd.read_csv('punctuation_output_log.txt', sep='\\t', encoding='utf-8', lineterminator='\\n')\n",
    "df.head()"
   ]
  },
  {
   "cell_type": "code",
   "execution_count": 75,
   "metadata": {},
   "outputs": [],
   "source": [
    "def do_features(name, input_file, tr_or_tst_groups):\n",
    "    feature = pd.read_csv(input_file, sep='\\t', encoding='utf-8', lineterminator='\\n')\n",
    "    group_df = pd.read_csv(tr_or_tst_groups, sep=',', encoding='utf-8', lineterminator='\\n')\n",
    "    feature = pd.merge(feature, group_df, on='doc_id', how='right', sort=True).dropna()\n",
    "    feature['mean_'+name] = feature.groupby('group_id')[name].transform('mean')\n",
    "    feature = feature[['mean_'+name, 'pair_id',name]]\n",
    "    feature['pair_id'] = feature['pair_id'].astype(int)    \n",
    "    feature = pd.merge(group_df, feature, on='pair_id', how='left', sort=True)\n",
    "    feature['diff_'+name] = np.abs(feature['mean_'+name] - feature[name])\n",
    "\n",
    "    return feature['diff_'+name].tolist()\n",
    "\n",
    "name = 'log_emn'\n",
    "input_file = 'punctuation_output_log.txt'\n",
    "tr_or_tst_groups = '../train_groups.csv'\n",
    "do_features(name, input_file, tr_or_tst_groups);"
   ]
  },
  {
   "cell_type": "code",
   "execution_count": 29,
   "metadata": {},
   "outputs": [],
   "source": [
    "def add_group_id(df):\n",
    "    group_df = pd.read_csv('../train_groups.csv', sep=',', encoding='utf-8', lineterminator='\\n')\n",
    "    group_df = group_df[['doc_id', 'group_id']]\n",
    "    group_df.index = group_df.doc_id\n",
    "    group_df.drop('doc_id', inplace=True, axis=1)\n",
    "    group_df = group_df.sort_index()\n",
    "    df = pd.merge(df, group_df, on='pair_id', how='right')\n",
    "\n",
    "    group_df = pd.read_csv('../test_groups.csv', sep=',', encoding='utf-8', lineterminator='\\n')\n",
    "    group_df = group_df[['doc_id', 'group_id']]\n",
    "    group_df.index = group_df.doc_id\n",
    "    group_df.drop('doc_id', inplace=True, axis=1)\n",
    "    group_df = group_df.sort_index()\n",
    "    df = pd.merge(df, group_df, on='pair_id', how='right')\n",
    "\n",
    "    df['group_id'] = df.where(pd.notna(df.group_id_x), df.group_id_y, axis=0).group_id_x.astype(int)\n",
    "    df.drop(['group_id_x','group_id_y'], inplace=True, axis=1)\n",
    "    df = df.dropna()\n",
    "    return df"
   ]
  },
  {
   "cell_type": "code",
   "execution_count": 30,
   "metadata": {},
   "outputs": [
    {
     "ename": "KeyError",
     "evalue": "'pair_id'",
     "output_type": "error",
     "traceback": [
      "\u001b[0;31m---------------------------------------------------------------------------\u001b[0m",
      "\u001b[0;31mKeyError\u001b[0m                                  Traceback (most recent call last)",
      "\u001b[0;32m<ipython-input-30-ed855c30f462>\u001b[0m in \u001b[0;36m<module>\u001b[0;34m\u001b[0m\n\u001b[0;32m----> 1\u001b[0;31m \u001b[0mdf\u001b[0m \u001b[0;34m=\u001b[0m \u001b[0madd_group_id\u001b[0m\u001b[0;34m(\u001b[0m\u001b[0mdf\u001b[0m\u001b[0;34m)\u001b[0m\u001b[0;34m\u001b[0m\u001b[0;34m\u001b[0m\u001b[0m\n\u001b[0m\u001b[1;32m      2\u001b[0m \u001b[0mdf\u001b[0m\u001b[0;34m.\u001b[0m\u001b[0mhead\u001b[0m\u001b[0;34m(\u001b[0m\u001b[0;36m2\u001b[0m\u001b[0;34m)\u001b[0m\u001b[0;34m\u001b[0m\u001b[0;34m\u001b[0m\u001b[0m\n",
      "\u001b[0;32m<ipython-input-29-3931e3f60e75>\u001b[0m in \u001b[0;36madd_group_id\u001b[0;34m(df)\u001b[0m\n\u001b[1;32m      5\u001b[0m     \u001b[0mgroup_df\u001b[0m\u001b[0;34m.\u001b[0m\u001b[0mdrop\u001b[0m\u001b[0;34m(\u001b[0m\u001b[0;34m'doc_id'\u001b[0m\u001b[0;34m,\u001b[0m \u001b[0minplace\u001b[0m\u001b[0;34m=\u001b[0m\u001b[0;32mTrue\u001b[0m\u001b[0;34m,\u001b[0m \u001b[0maxis\u001b[0m\u001b[0;34m=\u001b[0m\u001b[0;36m1\u001b[0m\u001b[0;34m)\u001b[0m\u001b[0;34m\u001b[0m\u001b[0;34m\u001b[0m\u001b[0m\n\u001b[1;32m      6\u001b[0m     \u001b[0mgroup_df\u001b[0m \u001b[0;34m=\u001b[0m \u001b[0mgroup_df\u001b[0m\u001b[0;34m.\u001b[0m\u001b[0msort_index\u001b[0m\u001b[0;34m(\u001b[0m\u001b[0;34m)\u001b[0m\u001b[0;34m\u001b[0m\u001b[0;34m\u001b[0m\u001b[0m\n\u001b[0;32m----> 7\u001b[0;31m     \u001b[0mdf\u001b[0m \u001b[0;34m=\u001b[0m \u001b[0mpd\u001b[0m\u001b[0;34m.\u001b[0m\u001b[0mmerge\u001b[0m\u001b[0;34m(\u001b[0m\u001b[0mdf\u001b[0m\u001b[0;34m,\u001b[0m \u001b[0mgroup_df\u001b[0m\u001b[0;34m,\u001b[0m \u001b[0mon\u001b[0m\u001b[0;34m=\u001b[0m\u001b[0;34m'pair_id'\u001b[0m\u001b[0;34m,\u001b[0m \u001b[0mhow\u001b[0m\u001b[0;34m=\u001b[0m\u001b[0;34m'right'\u001b[0m\u001b[0;34m)\u001b[0m\u001b[0;34m\u001b[0m\u001b[0;34m\u001b[0m\u001b[0m\n\u001b[0m\u001b[1;32m      8\u001b[0m \u001b[0;34m\u001b[0m\u001b[0m\n\u001b[1;32m      9\u001b[0m     \u001b[0mgroup_df\u001b[0m \u001b[0;34m=\u001b[0m \u001b[0mpd\u001b[0m\u001b[0;34m.\u001b[0m\u001b[0mread_csv\u001b[0m\u001b[0;34m(\u001b[0m\u001b[0;34m'../test_groups.csv'\u001b[0m\u001b[0;34m,\u001b[0m \u001b[0msep\u001b[0m\u001b[0;34m=\u001b[0m\u001b[0;34m','\u001b[0m\u001b[0;34m,\u001b[0m \u001b[0mencoding\u001b[0m\u001b[0;34m=\u001b[0m\u001b[0;34m'utf-8'\u001b[0m\u001b[0;34m,\u001b[0m \u001b[0mlineterminator\u001b[0m\u001b[0;34m=\u001b[0m\u001b[0;34m'\\n'\u001b[0m\u001b[0;34m)\u001b[0m\u001b[0;34m\u001b[0m\u001b[0;34m\u001b[0m\u001b[0m\n",
      "\u001b[0;32m~/anaconda3/lib/python3.7/site-packages/pandas/core/reshape/merge.py\u001b[0m in \u001b[0;36mmerge\u001b[0;34m(left, right, how, on, left_on, right_on, left_index, right_index, sort, suffixes, copy, indicator, validate)\u001b[0m\n\u001b[1;32m     45\u001b[0m                          \u001b[0mright_index\u001b[0m\u001b[0;34m=\u001b[0m\u001b[0mright_index\u001b[0m\u001b[0;34m,\u001b[0m \u001b[0msort\u001b[0m\u001b[0;34m=\u001b[0m\u001b[0msort\u001b[0m\u001b[0;34m,\u001b[0m \u001b[0msuffixes\u001b[0m\u001b[0;34m=\u001b[0m\u001b[0msuffixes\u001b[0m\u001b[0;34m,\u001b[0m\u001b[0;34m\u001b[0m\u001b[0;34m\u001b[0m\u001b[0m\n\u001b[1;32m     46\u001b[0m                          \u001b[0mcopy\u001b[0m\u001b[0;34m=\u001b[0m\u001b[0mcopy\u001b[0m\u001b[0;34m,\u001b[0m \u001b[0mindicator\u001b[0m\u001b[0;34m=\u001b[0m\u001b[0mindicator\u001b[0m\u001b[0;34m,\u001b[0m\u001b[0;34m\u001b[0m\u001b[0;34m\u001b[0m\u001b[0m\n\u001b[0;32m---> 47\u001b[0;31m                          validate=validate)\n\u001b[0m\u001b[1;32m     48\u001b[0m     \u001b[0;32mreturn\u001b[0m \u001b[0mop\u001b[0m\u001b[0;34m.\u001b[0m\u001b[0mget_result\u001b[0m\u001b[0;34m(\u001b[0m\u001b[0;34m)\u001b[0m\u001b[0;34m\u001b[0m\u001b[0;34m\u001b[0m\u001b[0m\n\u001b[1;32m     49\u001b[0m \u001b[0;34m\u001b[0m\u001b[0m\n",
      "\u001b[0;32m~/anaconda3/lib/python3.7/site-packages/pandas/core/reshape/merge.py\u001b[0m in \u001b[0;36m__init__\u001b[0;34m(self, left, right, how, on, left_on, right_on, axis, left_index, right_index, sort, suffixes, copy, indicator, validate)\u001b[0m\n\u001b[1;32m    527\u001b[0m         (self.left_join_keys,\n\u001b[1;32m    528\u001b[0m          \u001b[0mself\u001b[0m\u001b[0;34m.\u001b[0m\u001b[0mright_join_keys\u001b[0m\u001b[0;34m,\u001b[0m\u001b[0;34m\u001b[0m\u001b[0;34m\u001b[0m\u001b[0m\n\u001b[0;32m--> 529\u001b[0;31m          self.join_names) = self._get_merge_keys()\n\u001b[0m\u001b[1;32m    530\u001b[0m \u001b[0;34m\u001b[0m\u001b[0m\n\u001b[1;32m    531\u001b[0m         \u001b[0;31m# validate the merge keys dtypes. We may need to coerce\u001b[0m\u001b[0;34m\u001b[0m\u001b[0;34m\u001b[0m\u001b[0;34m\u001b[0m\u001b[0m\n",
      "\u001b[0;32m~/anaconda3/lib/python3.7/site-packages/pandas/core/reshape/merge.py\u001b[0m in \u001b[0;36m_get_merge_keys\u001b[0;34m(self)\u001b[0m\n\u001b[1;32m    831\u001b[0m                         \u001b[0;32mif\u001b[0m \u001b[0mrk\u001b[0m \u001b[0;32mis\u001b[0m \u001b[0;32mnot\u001b[0m \u001b[0;32mNone\u001b[0m\u001b[0;34m:\u001b[0m\u001b[0;34m\u001b[0m\u001b[0;34m\u001b[0m\u001b[0m\n\u001b[1;32m    832\u001b[0m                             right_keys.append(\n\u001b[0;32m--> 833\u001b[0;31m                                 right._get_label_or_level_values(rk))\n\u001b[0m\u001b[1;32m    834\u001b[0m                         \u001b[0;32melse\u001b[0m\u001b[0;34m:\u001b[0m\u001b[0;34m\u001b[0m\u001b[0;34m\u001b[0m\u001b[0m\n\u001b[1;32m    835\u001b[0m                             \u001b[0;31m# work-around for merge_asof(right_index=True)\u001b[0m\u001b[0;34m\u001b[0m\u001b[0;34m\u001b[0m\u001b[0;34m\u001b[0m\u001b[0m\n",
      "\u001b[0;32m~/anaconda3/lib/python3.7/site-packages/pandas/core/generic.py\u001b[0m in \u001b[0;36m_get_label_or_level_values\u001b[0;34m(self, key, axis)\u001b[0m\n\u001b[1;32m   1704\u001b[0m             \u001b[0mvalues\u001b[0m \u001b[0;34m=\u001b[0m \u001b[0mself\u001b[0m\u001b[0;34m.\u001b[0m\u001b[0maxes\u001b[0m\u001b[0;34m[\u001b[0m\u001b[0maxis\u001b[0m\u001b[0;34m]\u001b[0m\u001b[0;34m.\u001b[0m\u001b[0mget_level_values\u001b[0m\u001b[0;34m(\u001b[0m\u001b[0mkey\u001b[0m\u001b[0;34m)\u001b[0m\u001b[0;34m.\u001b[0m\u001b[0m_values\u001b[0m\u001b[0;34m\u001b[0m\u001b[0;34m\u001b[0m\u001b[0m\n\u001b[1;32m   1705\u001b[0m         \u001b[0;32melse\u001b[0m\u001b[0;34m:\u001b[0m\u001b[0;34m\u001b[0m\u001b[0;34m\u001b[0m\u001b[0m\n\u001b[0;32m-> 1706\u001b[0;31m             \u001b[0;32mraise\u001b[0m \u001b[0mKeyError\u001b[0m\u001b[0;34m(\u001b[0m\u001b[0mkey\u001b[0m\u001b[0;34m)\u001b[0m\u001b[0;34m\u001b[0m\u001b[0;34m\u001b[0m\u001b[0m\n\u001b[0m\u001b[1;32m   1707\u001b[0m \u001b[0;34m\u001b[0m\u001b[0m\n\u001b[1;32m   1708\u001b[0m         \u001b[0;31m# Check for duplicates\u001b[0m\u001b[0;34m\u001b[0m\u001b[0;34m\u001b[0m\u001b[0;34m\u001b[0m\u001b[0m\n",
      "\u001b[0;31mKeyError\u001b[0m: 'pair_id'"
     ]
    }
   ],
   "source": [
    "df = add_group_id(df)\n",
    "df.head(2)"
   ]
  },
  {
   "cell_type": "code",
   "execution_count": 19,
   "metadata": {},
   "outputs": [],
   "source": [
    "df['mean_num_emn'] = df.groupby('group_id')['log_emn'].transform('mean')\n",
    "df['diff_emn'] = np.abs(df['mean_num_emn'] - df['log_emn'])"
   ]
  },
  {
   "cell_type": "code",
   "execution_count": 20,
   "metadata": {},
   "outputs": [],
   "source": [
    "df['mean_num_qmn'] = df.groupby('group_id')['log_qmn'].transform('mean')\n",
    "df['diff_qmn'] = np.abs(df['mean_num_qmn'] - df['log_qmn'])"
   ]
  },
  {
   "cell_type": "code",
   "execution_count": 21,
   "metadata": {},
   "outputs": [],
   "source": [
    "df['mean_num_pmn'] = df.groupby('group_id')['log_pmn'].transform('mean')\n",
    "df['diff_pmn'] = np.abs(df['mean_num_pmn'] - df['log_pmn'])"
   ]
  },
  {
   "cell_type": "code",
   "execution_count": 22,
   "metadata": {},
   "outputs": [],
   "source": [
    "df['mean_num_elmn'] = df.groupby('group_id')['log_elmn'].transform('mean')\n",
    "df['diff_elmn'] = np.abs(df['mean_num_elmn'] - df['log_elmn'])"
   ]
  },
  {
   "cell_type": "code",
   "execution_count": 25,
   "metadata": {},
   "outputs": [
    {
     "data": {
      "text/html": [
       "<div>\n",
       "<style scoped>\n",
       "    .dataframe tbody tr th:only-of-type {\n",
       "        vertical-align: middle;\n",
       "    }\n",
       "\n",
       "    .dataframe tbody tr th {\n",
       "        vertical-align: top;\n",
       "    }\n",
       "\n",
       "    .dataframe thead th {\n",
       "        text-align: right;\n",
       "    }\n",
       "</style>\n",
       "<table border=\"1\" class=\"dataframe\">\n",
       "  <thead>\n",
       "    <tr style=\"text-align: right;\">\n",
       "      <th></th>\n",
       "      <th>doc_id</th>\n",
       "      <th>log_emn</th>\n",
       "      <th>log_qmn</th>\n",
       "      <th>log_pmn</th>\n",
       "      <th>log_elmn</th>\n",
       "      <th>group_id</th>\n",
       "      <th>mean_num_emn</th>\n",
       "      <th>diff_emn</th>\n",
       "      <th>mean_num_qmn</th>\n",
       "      <th>diff_qmn</th>\n",
       "      <th>mean_num_pmn</th>\n",
       "      <th>diff_pmn</th>\n",
       "      <th>mean_num_elmn</th>\n",
       "      <th>diff_elmn</th>\n",
       "    </tr>\n",
       "  </thead>\n",
       "  <tbody>\n",
       "    <tr>\n",
       "      <th>0</th>\n",
       "      <td>1</td>\n",
       "      <td>0.0</td>\n",
       "      <td>2.484907</td>\n",
       "      <td>5.313206</td>\n",
       "      <td>1.386294</td>\n",
       "      <td>3</td>\n",
       "      <td>2.343188</td>\n",
       "      <td>2.343188</td>\n",
       "      <td>2.784026</td>\n",
       "      <td>0.299119</td>\n",
       "      <td>6.493965</td>\n",
       "      <td>1.180759</td>\n",
       "      <td>1.713429</td>\n",
       "      <td>0.327135</td>\n",
       "    </tr>\n",
       "    <tr>\n",
       "      <th>1</th>\n",
       "      <td>2</td>\n",
       "      <td>0.0</td>\n",
       "      <td>1.609438</td>\n",
       "      <td>3.555348</td>\n",
       "      <td>0.000000</td>\n",
       "      <td>280</td>\n",
       "      <td>2.036708</td>\n",
       "      <td>2.036708</td>\n",
       "      <td>2.387526</td>\n",
       "      <td>0.778088</td>\n",
       "      <td>4.847264</td>\n",
       "      <td>1.291916</td>\n",
       "      <td>1.572007</td>\n",
       "      <td>1.572007</td>\n",
       "    </tr>\n",
       "  </tbody>\n",
       "</table>\n",
       "</div>"
      ],
      "text/plain": [
       "   doc_id  log_emn   log_qmn   log_pmn  log_elmn  group_id  mean_num_emn  \\\n",
       "0       1      0.0  2.484907  5.313206  1.386294         3      2.343188   \n",
       "1       2      0.0  1.609438  3.555348  0.000000       280      2.036708   \n",
       "\n",
       "   diff_emn  mean_num_qmn  diff_qmn  mean_num_pmn  diff_pmn  mean_num_elmn  \\\n",
       "0  2.343188      2.784026  0.299119      6.493965  1.180759       1.713429   \n",
       "1  2.036708      2.387526  0.778088      4.847264  1.291916       1.572007   \n",
       "\n",
       "   diff_elmn  \n",
       "0   0.327135  \n",
       "1   1.572007  "
      ]
     },
     "execution_count": 25,
     "metadata": {},
     "output_type": "execute_result"
    }
   ],
   "source": [
    "df.head(2)"
   ]
  },
  {
   "cell_type": "code",
   "execution_count": 24,
   "metadata": {},
   "outputs": [],
   "source": [
    "df[['doc_id', 'diff_emn', 'diff_qmn', 'diff_pmn', 'diff_elmn']].to_csv(\"punctuation_output_log_diff.txt\", \\\n",
    "                                                                        index=False, sep='\\t')"
   ]
  },
  {
   "cell_type": "code",
   "execution_count": null,
   "metadata": {},
   "outputs": [],
   "source": []
  }
 ],
 "metadata": {
  "kernelspec": {
   "display_name": "Python 3",
   "language": "python",
   "name": "python3"
  },
  "language_info": {
   "codemirror_mode": {
    "name": "ipython",
    "version": 3
   },
   "file_extension": ".py",
   "mimetype": "text/x-python",
   "name": "python",
   "nbconvert_exporter": "python",
   "pygments_lexer": "ipython3",
   "version": "3.7.3"
  }
 },
 "nbformat": 4,
 "nbformat_minor": 2
}
