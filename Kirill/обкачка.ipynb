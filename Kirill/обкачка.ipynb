{
 "cells": [
  {
   "cell_type": "code",
   "execution_count": 3,
   "metadata": {},
   "outputs": [],
   "source": [
    "from bs4 import BeautifulSoup\n",
    "import re\n",
    "import codecs"
   ]
  },
  {
   "cell_type": "code",
   "execution_count": 7,
   "metadata": {},
   "outputs": [],
   "source": [
    "def parse_url(url, stop_words, min_len_word=1):\n",
    "#   url?text#text -> url:\n",
    "    temp = re.search(r'.+\\?', url)\n",
    "    if temp != None:\n",
    "        url = temp.group(0)[:-1]\n",
    "    temp = re.search(r'.+#', url)\n",
    "    if temp != None:\n",
    "        url = temp.group(0)[:-1]\n",
    "    \n",
    "#   site_name, full_domen, last_domen\n",
    "    full_domen = re.search(r'\\..+', url).group(0)[1:]\n",
    "    if re.search(r'.+?/', full_domen) != None:\n",
    "        full_domen = re.search(r'.+?/', full_domen).group(0)[:-1]    \n",
    "    last_domen = full_domen.strip().split(sep='.')[-1]\n",
    "    site_name = re.search(r'.+?\\.', url).group(0)[:-1]\n",
    "    \n",
    "#   usefull_names = url.split() - domens - stop_words - set(word: len(word) < n)\n",
    "    domens = full_domen.strip().split(sep='.')\n",
    "    usefull_names = set(re.split('-|_|\\.|/',url))\n",
    "    usefull_names = usefull_names.difference(stop_words)\n",
    "    usefull_names = usefull_names.difference(domens)\n",
    "    usefull_names = [item for item in usefull_names if len(item) >= min_len_word]\n",
    "    usefull_names = ' '.join(list(usefull_names))\n",
    "\n",
    "        \n",
    "    return full_domen, last_domen, site_name, usefull_names"
   ]
  },
  {
   "cell_type": "code",
   "execution_count": 8,
   "metadata": {},
   "outputs": [],
   "source": [
    "path = 'content/'\n",
    "stop_words = {''}\n",
    "# stop_words = {'php', 'index', 'html', ''}\n",
    "# stop_words = {'php', 'index', 'html', '', 'page', 'news', 'forum'}\n",
    "# stop_words = {'php', 'index', 'html', '', 'page', 'news', 'forum', 'users', 'blog', 'topic', 'viewtopic', 'htm'}"
   ]
  },
  {
   "cell_type": "code",
   "execution_count": 9,
   "metadata": {},
   "outputs": [],
   "source": [
    "output_txt = 'urls.txt'\n",
    "\n",
    "open(output_txt, 'w')\n",
    "with open(output_txt, 'a') as out_f:\n",
    "    out_f.write('{}\\t{}\\t{}\\t{}\\t{}\\t{}\\n'.format('doc_id', 'url', 'site_name', \\\n",
    "                                              'full_domen', 'last_domen', 'usefull_names'))\n",
    "    for doc_id in range(1, 28027):\n",
    "        with codecs.open(path + str(doc_id) + '.dat', 'r', 'utf-8') as in_f:\n",
    "            url = in_f.readline().strip()\n",
    "            full_domen, last_domen, site_name, usefull_names = parse_url(url, stop_words, min_len_word=3)\n",
    "            out_f.write('{}\\t{}\\t{}\\t{}\\t{}\\t{}\\n'.format(doc_id, url, site_name, \\\n",
    "                                                      full_domen, last_domen, usefull_names))"
   ]
  },
  {
   "cell_type": "code",
   "execution_count": 10,
   "metadata": {},
   "outputs": [],
   "source": [
    "output_txt = 'useful_names.txt'\n",
    "\n",
    "open(output_txt, 'w')\n",
    "with open(output_txt, 'a') as out_f:\n",
    "    out_f.write('{}\\t{}\\n'.format('doc_id', 'useful_names'))\n",
    "    for doc_id in range(1, 28027):\n",
    "        with codecs.open(path + str(doc_id) + '.dat', 'r', 'utf-8') as in_f:\n",
    "            url = in_f.readline().strip()\n",
    "            full_domen, last_domen, site_name, usefull_names = parse_url(url, stop_words, min_len_word=3)\n",
    "            out_f.write('{}\\t{}\\n'.format(doc_id, usefull_names))"
   ]
  },
  {
   "cell_type": "code",
   "execution_count": 11,
   "metadata": {},
   "outputs": [],
   "source": [
    "# all_word_dict\n",
    "output_txt = 'all_word_dict.txt'\n",
    "\n",
    "open(output_txt, 'w')\n",
    "with open(output_txt, 'a') as out_f:\n",
    "    out_f.write('{}\\t{}\\n'.format('doc_id', 'useful_names'))\n",
    "    for doc_id in range(1, 28027):\n",
    "        with codecs.open(path + str(doc_id) + '.dat', 'r', 'utf-8') as in_f:\n",
    "            url = in_f.readline().strip()\n",
    "            _, _, _, usefull_names = parse_url(url, stop_words, min_len_word=0)\n",
    "            usefull_names = usefull_names.strip().split()\n",
    "            for i in usefull_names:\n",
    "                out_f.write('{}\\t{}\\n'.format(doc_id, i))"
   ]
  },
  {
   "cell_type": "code",
   "execution_count": 17,
   "metadata": {},
   "outputs": [
    {
     "data": {
      "text/html": [
       "<div>\n",
       "<style scoped>\n",
       "    .dataframe tbody tr th:only-of-type {\n",
       "        vertical-align: middle;\n",
       "    }\n",
       "\n",
       "    .dataframe tbody tr th {\n",
       "        vertical-align: top;\n",
       "    }\n",
       "\n",
       "    .dataframe thead th {\n",
       "        text-align: right;\n",
       "    }\n",
       "</style>\n",
       "<table border=\"1\" class=\"dataframe\">\n",
       "  <thead>\n",
       "    <tr style=\"text-align: right;\">\n",
       "      <th></th>\n",
       "      <th>doc_id</th>\n",
       "      <th>useful_names</th>\n",
       "      <th>total_counter</th>\n",
       "      <th>group_id</th>\n",
       "      <th>gr_counter</th>\n",
       "      <th>gr_docs</th>\n",
       "      <th>dc_counter</th>\n",
       "      <th>dc_words</th>\n",
       "      <th>tfidf</th>\n",
       "    </tr>\n",
       "  </thead>\n",
       "  <tbody>\n",
       "    <tr>\n",
       "      <th>0</th>\n",
       "      <td>1</td>\n",
       "      <td>5141</td>\n",
       "      <td>1</td>\n",
       "      <td>3</td>\n",
       "      <td>1</td>\n",
       "      <td>618</td>\n",
       "      <td>1</td>\n",
       "      <td>5</td>\n",
       "      <td>1.285298</td>\n",
       "    </tr>\n",
       "    <tr>\n",
       "      <th>1</th>\n",
       "      <td>1</td>\n",
       "      <td>zrenielib</td>\n",
       "      <td>15</td>\n",
       "      <td>3</td>\n",
       "      <td>1</td>\n",
       "      <td>618</td>\n",
       "      <td>1</td>\n",
       "      <td>5</td>\n",
       "      <td>1.285298</td>\n",
       "    </tr>\n",
       "    <tr>\n",
       "      <th>2</th>\n",
       "      <td>1</td>\n",
       "      <td>html</td>\n",
       "      <td>8126</td>\n",
       "      <td>3</td>\n",
       "      <td>41</td>\n",
       "      <td>618</td>\n",
       "      <td>1</td>\n",
       "      <td>5</td>\n",
       "      <td>0.542583</td>\n",
       "    </tr>\n",
       "    <tr>\n",
       "      <th>3</th>\n",
       "      <td>1</td>\n",
       "      <td>docs</td>\n",
       "      <td>199</td>\n",
       "      <td>3</td>\n",
       "      <td>2</td>\n",
       "      <td>618</td>\n",
       "      <td>1</td>\n",
       "      <td>5</td>\n",
       "      <td>1.146668</td>\n",
       "    </tr>\n",
       "    <tr>\n",
       "      <th>4</th>\n",
       "      <td>1</td>\n",
       "      <td>index</td>\n",
       "      <td>2034</td>\n",
       "      <td>3</td>\n",
       "      <td>14</td>\n",
       "      <td>618</td>\n",
       "      <td>1</td>\n",
       "      <td>5</td>\n",
       "      <td>0.757486</td>\n",
       "    </tr>\n",
       "  </tbody>\n",
       "</table>\n",
       "</div>"
      ],
      "text/plain": [
       "   doc_id useful_names  total_counter  group_id  gr_counter  gr_docs  \\\n",
       "0       1         5141              1         3           1      618   \n",
       "1       1    zrenielib             15         3           1      618   \n",
       "2       1         html           8126         3          41      618   \n",
       "3       1         docs            199         3           2      618   \n",
       "4       1        index           2034         3          14      618   \n",
       "\n",
       "   dc_counter  dc_words     tfidf  \n",
       "0           1         5  1.285298  \n",
       "1           1         5  1.285298  \n",
       "2           1         5  0.542583  \n",
       "3           1         5  1.146668  \n",
       "4           1         5  0.757486  "
      ]
     },
     "execution_count": 17,
     "metadata": {},
     "output_type": "execute_result"
    }
   ],
   "source": [
    "import pandas as pd\n",
    "import numpy as np\n",
    "\n",
    "awd_df = pd.read_csv('all_word_dict.txt', sep='\\t', encoding='utf-8', lineterminator='\\n')\n",
    "\n",
    "\n",
    "awd_df['total_counter'] = awd_df.groupby(by=['useful_names'])['useful_names'].transform(lambda s: len(s.values))\n",
    "\n",
    "group_df = pd.read_csv('train_groups.csv', sep=',', encoding='utf-8', lineterminator='\\n')\n",
    "group_df = group_df[['doc_id', 'group_id']]\n",
    "group_df.index = group_df.doc_id\n",
    "group_df.drop('doc_id', inplace=True, axis=1)\n",
    "group_df = group_df.sort_index()\n",
    "\n",
    "awd_df = pd.merge(awd_df, group_df, on='doc_id', how='left')\n",
    "\n",
    "group_df = pd.read_csv('test_groups.csv', sep=',', encoding='utf-8', lineterminator='\\n')\n",
    "group_df = group_df[['doc_id', 'group_id']]\n",
    "group_df.index = group_df.doc_id\n",
    "group_df.drop('doc_id', inplace=True, axis=1)\n",
    "group_df = group_df.sort_index()\n",
    "\n",
    "awd_df = pd.merge(awd_df, group_df, on='doc_id', how='left')\n",
    "awd_df['group_id'] = awd_df.where(pd.notna(awd_df.group_id_x), awd_df.group_id_y, axis=0).group_id_x.astype(int)\n",
    "awd_df.drop(['group_id_x','group_id_y'], inplace=True, axis=1)\n",
    "\n",
    "awd_df['gr_counter'] = awd_df.groupby(by=['group_id', 'useful_names'])['useful_names'].transform('count')\n",
    "awd_df['gr_docs'] = awd_df.groupby(by=['group_id'])['group_id'].transform('count')\n",
    "awd_df['dc_counter'] = awd_df.groupby(by=['doc_id', 'useful_names'])['useful_names'].transform('count')\n",
    "awd_df['dc_words'] = awd_df.groupby(by=['doc_id'])['doc_id'].transform('count')\n",
    "awd_df['tfidf'] = (awd_df['dc_counter'] / awd_df['dc_words']) * np.log(awd_df['gr_docs'] / awd_df['gr_counter'])\n",
    "\n",
    "awd_df.head()"
   ]
  },
  {
   "cell_type": "code",
   "execution_count": 18,
   "metadata": {},
   "outputs": [
    {
     "data": {
      "text/plain": [
       "count    171082.000000\n",
       "mean          0.889727\n",
       "std           0.592696\n",
       "min           0.079570\n",
       "25%           0.505603\n",
       "50%           0.732561\n",
       "75%           1.077431\n",
       "max           6.876265\n",
       "Name: tfidf, dtype: float64"
      ]
     },
     "execution_count": 18,
     "metadata": {},
     "output_type": "execute_result"
    }
   ],
   "source": [
    "awd_df.tfidf.describe()"
   ]
  },
  {
   "cell_type": "code",
   "execution_count": 21,
   "metadata": {},
   "outputs": [
    {
     "data": {
      "text/html": [
       "<div>\n",
       "<style scoped>\n",
       "    .dataframe tbody tr th:only-of-type {\n",
       "        vertical-align: middle;\n",
       "    }\n",
       "\n",
       "    .dataframe tbody tr th {\n",
       "        vertical-align: top;\n",
       "    }\n",
       "\n",
       "    .dataframe thead th {\n",
       "        text-align: right;\n",
       "    }\n",
       "</style>\n",
       "<table border=\"1\" class=\"dataframe\">\n",
       "  <thead>\n",
       "    <tr style=\"text-align: right;\">\n",
       "      <th></th>\n",
       "      <th>doc_id</th>\n",
       "      <th>useful_names</th>\n",
       "      <th>total_counter</th>\n",
       "      <th>group_id</th>\n",
       "      <th>gr_counter</th>\n",
       "      <th>gr_docs</th>\n",
       "      <th>dc_counter</th>\n",
       "      <th>dc_words</th>\n",
       "      <th>tfidf</th>\n",
       "    </tr>\n",
       "  </thead>\n",
       "  <tbody>\n",
       "    <tr>\n",
       "      <th>2</th>\n",
       "      <td>1</td>\n",
       "      <td>html</td>\n",
       "      <td>8126</td>\n",
       "      <td>3</td>\n",
       "      <td>41</td>\n",
       "      <td>618</td>\n",
       "      <td>1</td>\n",
       "      <td>5</td>\n",
       "      <td>0.542583</td>\n",
       "    </tr>\n",
       "    <tr>\n",
       "      <th>3</th>\n",
       "      <td>1</td>\n",
       "      <td>docs</td>\n",
       "      <td>199</td>\n",
       "      <td>3</td>\n",
       "      <td>2</td>\n",
       "      <td>618</td>\n",
       "      <td>1</td>\n",
       "      <td>5</td>\n",
       "      <td>1.146668</td>\n",
       "    </tr>\n",
       "    <tr>\n",
       "      <th>4</th>\n",
       "      <td>1</td>\n",
       "      <td>index</td>\n",
       "      <td>2034</td>\n",
       "      <td>3</td>\n",
       "      <td>14</td>\n",
       "      <td>618</td>\n",
       "      <td>1</td>\n",
       "      <td>5</td>\n",
       "      <td>0.757486</td>\n",
       "    </tr>\n",
       "    <tr>\n",
       "      <th>5</th>\n",
       "      <td>2</td>\n",
       "      <td>perevody</td>\n",
       "      <td>3</td>\n",
       "      <td>280</td>\n",
       "      <td>3</td>\n",
       "      <td>715</td>\n",
       "      <td>1</td>\n",
       "      <td>7</td>\n",
       "      <td>0.781953</td>\n",
       "    </tr>\n",
       "    <tr>\n",
       "      <th>6</th>\n",
       "      <td>2</td>\n",
       "      <td>perevesti</td>\n",
       "      <td>13</td>\n",
       "      <td>280</td>\n",
       "      <td>12</td>\n",
       "      <td>715</td>\n",
       "      <td>1</td>\n",
       "      <td>7</td>\n",
       "      <td>0.583911</td>\n",
       "    </tr>\n",
       "  </tbody>\n",
       "</table>\n",
       "</div>"
      ],
      "text/plain": [
       "   doc_id useful_names  total_counter  group_id  gr_counter  gr_docs  \\\n",
       "2       1         html           8126         3          41      618   \n",
       "3       1         docs            199         3           2      618   \n",
       "4       1        index           2034         3          14      618   \n",
       "5       2     perevody              3       280           3      715   \n",
       "6       2    perevesti             13       280          12      715   \n",
       "\n",
       "   dc_counter  dc_words     tfidf  \n",
       "2           1         5  0.542583  \n",
       "3           1         5  1.146668  \n",
       "4           1         5  0.757486  \n",
       "5           1         7  0.781953  \n",
       "6           1         7  0.583911  "
      ]
     },
     "execution_count": 21,
     "metadata": {},
     "output_type": "execute_result"
    }
   ],
   "source": [
    "awd_df = awd_df[awd_df['gr_counter'] >= 2]\n",
    "awd_df = awd_df[awd_df['tfidf'] >= 0.4]\n",
    "awd_df = awd_df.sort_values(by=['doc_id'], ascending=True)\n",
    "awd_df.head()"
   ]
  },
  {
   "cell_type": "code",
   "execution_count": 23,
   "metadata": {},
   "outputs": [
    {
     "data": {
      "text/html": [
       "<div>\n",
       "<style scoped>\n",
       "    .dataframe tbody tr th:only-of-type {\n",
       "        vertical-align: middle;\n",
       "    }\n",
       "\n",
       "    .dataframe tbody tr th {\n",
       "        vertical-align: top;\n",
       "    }\n",
       "\n",
       "    .dataframe thead th {\n",
       "        text-align: right;\n",
       "    }\n",
       "</style>\n",
       "<table border=\"1\" class=\"dataframe\">\n",
       "  <thead>\n",
       "    <tr style=\"text-align: right;\">\n",
       "      <th></th>\n",
       "      <th>doc_id</th>\n",
       "      <th>useful_names</th>\n",
       "    </tr>\n",
       "  </thead>\n",
       "  <tbody>\n",
       "    <tr>\n",
       "      <th>0</th>\n",
       "      <td>1</td>\n",
       "      <td>html docs index</td>\n",
       "    </tr>\n",
       "    <tr>\n",
       "      <th>1</th>\n",
       "      <td>2</td>\n",
       "      <td>perevody perevesti kak online</td>\n",
       "    </tr>\n",
       "    <tr>\n",
       "      <th>2</th>\n",
       "      <td>3</td>\n",
       "      <td>forum viewtopic php</td>\n",
       "    </tr>\n",
       "    <tr>\n",
       "      <th>3</th>\n",
       "      <td>4</td>\n",
       "      <td>v cat blogs</td>\n",
       "    </tr>\n",
       "    <tr>\n",
       "      <th>4</th>\n",
       "      <td>5</td>\n",
       "      <td>%D0%B1%D0%BE%D0%BB%D0%B5%D0%B7%D0%BD%D0%B8 jtb...</td>\n",
       "    </tr>\n",
       "  </tbody>\n",
       "</table>\n",
       "</div>"
      ],
      "text/plain": [
       "   doc_id                                       useful_names\n",
       "0       1                                    html docs index\n",
       "1       2                      perevody perevesti kak online\n",
       "2       3                                forum viewtopic php\n",
       "3       4                                        v cat blogs\n",
       "4       5  %D0%B1%D0%BE%D0%BB%D0%B5%D0%B7%D0%BD%D0%B8 jtb..."
      ]
     },
     "execution_count": 23,
     "metadata": {},
     "output_type": "execute_result"
    }
   ],
   "source": [
    "temp_range = pd.DataFrame(np.arange(1, 28027), columns=['doc_id'])\n",
    "temp = awd_df.groupby('doc_id')['useful_names'].apply(' '.join).reset_index()\n",
    "temp = pd.merge(temp_range, temp, on='doc_id', how='left')\n",
    "temp.fillna(\"\").head()"
   ]
  },
  {
   "cell_type": "code",
   "execution_count": 24,
   "metadata": {},
   "outputs": [],
   "source": [
    "temp[['doc_id', 'useful_names']].to_csv(\"improved_useful_names.csv\", index=False, sep='\\t')"
   ]
  },
  {
   "cell_type": "code",
   "execution_count": 26,
   "metadata": {},
   "outputs": [
    {
     "data": {
      "text/plain": [
       "<matplotlib.axes._subplots.AxesSubplot at 0x7fbfe4b7eeb8>"
      ]
     },
     "execution_count": 26,
     "metadata": {},
     "output_type": "execute_result"
    },
    {
     "data": {
      "image/png": "[encoded data removed]",
      "text/plain": [
       "<Figure size 1008x360 with 1 Axes>"
      ]
     },
     "metadata": {
      "needs_background": "light"
     },
     "output_type": "display_data"
    }
   ],
   "source": [
    "from matplotlib import pyplot as plt\n",
    "\n",
    "fig = plt.figure(figsize= (14,5))\n",
    "awd_df.useful_names.value_counts()[:20].plot.bar()"
   ]
  },
  {
   "cell_type": "code",
   "execution_count": 27,
   "metadata": {},
   "outputs": [
    {
     "data": {
      "text/html": [
       "<div>\n",
       "<style scoped>\n",
       "    .dataframe tbody tr th:only-of-type {\n",
       "        vertical-align: middle;\n",
       "    }\n",
       "\n",
       "    .dataframe tbody tr th {\n",
       "        vertical-align: top;\n",
       "    }\n",
       "\n",
       "    .dataframe thead th {\n",
       "        text-align: right;\n",
       "    }\n",
       "</style>\n",
       "<table border=\"1\" class=\"dataframe\">\n",
       "  <thead>\n",
       "    <tr style=\"text-align: right;\">\n",
       "      <th></th>\n",
       "      <th>url</th>\n",
       "      <th>site_name</th>\n",
       "      <th>full_domen</th>\n",
       "      <th>last_domen</th>\n",
       "      <th>usefull_names</th>\n",
       "    </tr>\n",
       "    <tr>\n",
       "      <th>doc_id</th>\n",
       "      <th></th>\n",
       "      <th></th>\n",
       "      <th></th>\n",
       "      <th></th>\n",
       "      <th></th>\n",
       "    </tr>\n",
       "  </thead>\n",
       "  <tbody>\n",
       "    <tr>\n",
       "      <th>1</th>\n",
       "      <td>zrenielib.ru/docs/index-5141.html</td>\n",
       "      <td>zrenielib</td>\n",
       "      <td>ru</td>\n",
       "      <td>ru</td>\n",
       "      <td>5141 zrenielib html docs index</td>\n",
       "    </tr>\n",
       "    <tr>\n",
       "      <th>2</th>\n",
       "      <td>kak-perevesti-online.ru/perevody-qiwi-wallet.html</td>\n",
       "      <td>kak-perevesti-online</td>\n",
       "      <td>ru</td>\n",
       "      <td>ru</td>\n",
       "      <td>perevody perevesti html kak wallet online qiwi</td>\n",
       "    </tr>\n",
       "    <tr>\n",
       "      <th>3</th>\n",
       "      <td>timecops.biz/forum/viewtopic.php?f=13&amp;t=319</td>\n",
       "      <td>timecops</td>\n",
       "      <td>biz</td>\n",
       "      <td>biz</td>\n",
       "      <td>viewtopic timecops php forum</td>\n",
       "    </tr>\n",
       "    <tr>\n",
       "      <th>4</th>\n",
       "      <td>proffi95.ru/blogs/prepodavanie-v-nachalnyh-kla...</td>\n",
       "      <td>proffi95</td>\n",
       "      <td>ru</td>\n",
       "      <td>ru</td>\n",
       "      <td>prepodavanie cat 280 blogs nachalnyh proffi95 ...</td>\n",
       "    </tr>\n",
       "    <tr>\n",
       "      <th>5</th>\n",
       "      <td>xn----jtbaaldsgaoflxr4fyc.xn--p1ai/%D0%BD%D0%B...</td>\n",
       "      <td>xn----jtbaaldsgaoflxr4fyc</td>\n",
       "      <td>xn--p1ai</td>\n",
       "      <td>xn--p1ai</td>\n",
       "      <td>%D0%BA%D1%80%D0%BE%D0%B2%D0%B8 %D0%BD%D0%B0%D1...</td>\n",
       "    </tr>\n",
       "    <tr>\n",
       "      <th>6</th>\n",
       "      <td>rabotka.ru/resume</td>\n",
       "      <td>rabotka</td>\n",
       "      <td>ru</td>\n",
       "      <td>ru</td>\n",
       "      <td>resume rabotka</td>\n",
       "    </tr>\n",
       "    <tr>\n",
       "      <th>7</th>\n",
       "      <td>vladkakashi.beon.ru/raisin</td>\n",
       "      <td>vladkakashi</td>\n",
       "      <td>beon.ru</td>\n",
       "      <td>ru</td>\n",
       "      <td>vladkakashi raisin</td>\n",
       "    </tr>\n",
       "    <tr>\n",
       "      <th>8</th>\n",
       "      <td>doshkolnik.ru/zaniatia-s-detmi/7675-ladushki.html</td>\n",
       "      <td>doshkolnik</td>\n",
       "      <td>ru</td>\n",
       "      <td>ru</td>\n",
       "      <td>doshkolnik detmi html zaniatia 7675 ladushki</td>\n",
       "    </tr>\n",
       "    <tr>\n",
       "      <th>9</th>\n",
       "      <td>chastnosti.com/skolko-kalorij-v-dyne.html</td>\n",
       "      <td>chastnosti</td>\n",
       "      <td>com</td>\n",
       "      <td>com</td>\n",
       "      <td>chastnosti kalorij skolko html dyne</td>\n",
       "    </tr>\n",
       "    <tr>\n",
       "      <th>10</th>\n",
       "      <td>pomogudengami.ru/board/nuzhna_pomoshh/4-259-1</td>\n",
       "      <td>pomogudengami</td>\n",
       "      <td>ru</td>\n",
       "      <td>ru</td>\n",
       "      <td>pomogudengami pomoshh board 259 nuzhna</td>\n",
       "    </tr>\n",
       "  </tbody>\n",
       "</table>\n",
       "</div>"
      ],
      "text/plain": [
       "                                                      url  \\\n",
       "doc_id                                                      \n",
       "1                       zrenielib.ru/docs/index-5141.html   \n",
       "2       kak-perevesti-online.ru/perevody-qiwi-wallet.html   \n",
       "3             timecops.biz/forum/viewtopic.php?f=13&t=319   \n",
       "4       proffi95.ru/blogs/prepodavanie-v-nachalnyh-kla...   \n",
       "5       xn----jtbaaldsgaoflxr4fyc.xn--p1ai/%D0%BD%D0%B...   \n",
       "6                                       rabotka.ru/resume   \n",
       "7                              vladkakashi.beon.ru/raisin   \n",
       "8       doshkolnik.ru/zaniatia-s-detmi/7675-ladushki.html   \n",
       "9               chastnosti.com/skolko-kalorij-v-dyne.html   \n",
       "10          pomogudengami.ru/board/nuzhna_pomoshh/4-259-1   \n",
       "\n",
       "                        site_name full_domen last_domen  \\\n",
       "doc_id                                                    \n",
       "1                       zrenielib         ru         ru   \n",
       "2            kak-perevesti-online         ru         ru   \n",
       "3                        timecops        biz        biz   \n",
       "4                        proffi95         ru         ru   \n",
       "5       xn----jtbaaldsgaoflxr4fyc   xn--p1ai   xn--p1ai   \n",
       "6                         rabotka         ru         ru   \n",
       "7                     vladkakashi    beon.ru         ru   \n",
       "8                      doshkolnik         ru         ru   \n",
       "9                      chastnosti        com        com   \n",
       "10                  pomogudengami         ru         ru   \n",
       "\n",
       "                                            usefull_names  \n",
       "doc_id                                                     \n",
       "1                          5141 zrenielib html docs index  \n",
       "2          perevody perevesti html kak wallet online qiwi  \n",
       "3                            viewtopic timecops php forum  \n",
       "4       prepodavanie cat 280 blogs nachalnyh proffi95 ...  \n",
       "5       %D0%BA%D1%80%D0%BE%D0%B2%D0%B8 %D0%BD%D0%B0%D1...  \n",
       "6                                          resume rabotka  \n",
       "7                                      vladkakashi raisin  \n",
       "8            doshkolnik detmi html zaniatia 7675 ladushki  \n",
       "9                     chastnosti kalorij skolko html dyne  \n",
       "10                 pomogudengami pomoshh board 259 nuzhna  "
      ]
     },
     "execution_count": 27,
     "metadata": {},
     "output_type": "execute_result"
    }
   ],
   "source": [
    "import pandas as pd\n",
    "\n",
    "urls_df = pd.read_csv('urls.txt', sep='\\t', encoding='utf-8', lineterminator='\\n')\n",
    "urls_df.index = urls_df.doc_id\n",
    "urls_df.drop('doc_id', inplace=True, axis=1)\n",
    "urls_df.head(10)"
   ]
  },
  {
   "cell_type": "code",
   "execution_count": 28,
   "metadata": {},
   "outputs": [
    {
     "data": {
      "text/plain": [
       "<matplotlib.axes._subplots.AxesSubplot at 0x7fbfe4515f28>"
      ]
     },
     "execution_count": 28,
     "metadata": {},
     "output_type": "execute_result"
    },
    {
     "data": {
      "image/png": "[encoded data removed]",
      "text/plain": [
       "<Figure size 1008x360 with 1 Axes>"
      ]
     },
     "metadata": {
      "needs_background": "light"
     },
     "output_type": "display_data"
    }
   ],
   "source": [
    "fig = plt.figure(figsize= (14,5))\n",
    "\n",
    "urls_df.last_domen.value_counts()[:10].plot.bar()"
   ]
  },
  {
   "cell_type": "code",
   "execution_count": 29,
   "metadata": {},
   "outputs": [
    {
     "data": {
      "text/plain": [
       "<matplotlib.axes._subplots.AxesSubplot at 0x7fbfe4397668>"
      ]
     },
     "execution_count": 29,
     "metadata": {},
     "output_type": "execute_result"
    },
    {
     "data": {
      "image/png": "[encoded data removed]",
      "text/plain": [
       "<Figure size 1008x360 with 1 Axes>"
      ]
     },
     "metadata": {
      "needs_background": "light"
     },
     "output_type": "display_data"
    }
   ],
   "source": [
    "fig = plt.figure(figsize= (14,5))\n",
    "\n",
    "urls_df.site_name.value_counts()[:20].plot.bar()"
   ]
  },
  {
   "cell_type": "code",
   "execution_count": 73,
   "metadata": {},
   "outputs": [
    {
     "data": {
      "text/plain": [
       "array(['ru', 'biz', 'xn--p1ai', 'com', 'me', 'by', 'az', 'net', 'sh',\n",
       "       'club', 'bg', 'org', 'tv', 'info', 'eu', 'ua', 'ec', 'su', 'uz',\n",
       "       'ws', 'co', 'kz', 'lv', 'br', 'mobi', 'cc', 'us', 'ml', 'tk', 'be',\n",
       "       'in', 'fm', 'to', 'am', 'sd', 'ag', 'name', 'online', 'rs', 'pro',\n",
       "       'guru', 'xyz', 'io', 'pl', 'bz', 'menu', 'gallery', 'nl', 'cz',\n",
       "       'ng', 'ga', 'il', 'is', 'news', 'ar', 'hk', 'expert', 'today',\n",
       "       'fi', 'jp', 'kg', 'space', 'so', 'pw', 'live', 'vn', 'wiki', 'ph',\n",
       "       'es', 'it', 'md', 'travel', 'la', 'tools', 'ink', 'tj', 'bo',\n",
       "       'studio', 'np', 'xn--p1acf', 'cab', 'ee', 'moe', 'de', 'tips',\n",
       "       'win', 'top', 'cf', 'uk', 'ro', 'li', 'ir', 'click', 'life', 'gr',\n",
       "       'ninja', 'gg', 'id', 'one', 'fr', 'center', 'st', 'christmas',\n",
       "       'xxx', 'tech', 'at', 'cn'], dtype=object)"
      ]
     },
     "execution_count": 73,
     "metadata": {},
     "output_type": "execute_result"
    }
   ],
   "source": [
    "urls_df.last_domen.unique()"
   ]
  },
  {
   "cell_type": "code",
   "execution_count": null,
   "metadata": {},
   "outputs": [],
   "source": []
  }
 ],
 "metadata": {
  "kernelspec": {
   "display_name": "Python 3",
   "language": "python",
   "name": "python3"
  },
  "language_info": {
   "codemirror_mode": {
    "name": "ipython",
    "version": 3
   },
   "file_extension": ".py",
   "mimetype": "text/x-python",
   "name": "python",
   "nbconvert_exporter": "python",
   "pygments_lexer": "ipython3",
   "version": "3.7.3"
  }
 },
 "nbformat": 4,
 "nbformat_minor": 2
}
